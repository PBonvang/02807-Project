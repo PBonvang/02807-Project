{
 "cells": [
  {
   "cell_type": "code",
   "execution_count": 1,
   "metadata": {},
   "outputs": [
    {
     "name": "stdout",
     "output_type": "stream",
     "text": [
      "https://services.datafordeler.dk/BBR/BBRPublic/1/rest/bygning?&Kommunekode=0101&username=EAMKWHGIPN&password=Xrv56vgr!\n"
     ]
    }
   ],
   "source": [
    "from helpers import get_url, load\n",
    "\n",
    "copenhagen_commune = get_url('bygning',Kommunekode='0101')\n",
    "print(copenhagen_commune)"
   ]
  },
  {
   "cell_type": "code",
   "execution_count": 2,
   "metadata": {},
   "outputs": [],
   "source": [
    "load('bygning',Kommunekode='0101') # TODO: The file test.xml isn't correctly formatted and idk why (Python requests issue)\n"
   ]
  }
 ],
 "metadata": {
  "kernelspec": {
   "display_name": ".venv",
   "language": "python",
   "name": "python3"
  },
  "language_info": {
   "codemirror_mode": {
    "name": "ipython",
    "version": 3
   },
   "file_extension": ".py",
   "mimetype": "text/x-python",
   "name": "python",
   "nbconvert_exporter": "python",
   "pygments_lexer": "ipython3",
   "version": "3.9.9"
  }
 },
 "nbformat": 4,
 "nbformat_minor": 2
}
