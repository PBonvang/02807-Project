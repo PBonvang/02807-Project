{
 "cells": [
  {
   "cell_type": "code",
   "execution_count": 1,
   "metadata": {},
   "outputs": [],
   "source": [
    "import pandas as pd\n",
    "import pickle"
   ]
  },
  {
   "cell_type": "code",
   "execution_count": 28,
   "metadata": {},
   "outputs": [
    {
     "name": "stderr",
     "output_type": "stream",
     "text": [
      "C:\\Users\\Famas PB\\AppData\\Local\\Temp\\ipykernel_2388\\4136958782.py:1: DtypeWarning: Columns (8) have mixed types. Specify dtype option on import or set low_memory=False.\n",
      "  ds = pd.read_csv('data/DS_with_one_hot.csv', delimiter=';')\n"
     ]
    },
    {
     "data": {
      "text/html": [
       "<div>\n",
       "<style scoped>\n",
       "    .dataframe tbody tr th:only-of-type {\n",
       "        vertical-align: middle;\n",
       "    }\n",
       "\n",
       "    .dataframe tbody tr th {\n",
       "        vertical-align: top;\n",
       "    }\n",
       "\n",
       "    .dataframe thead th {\n",
       "        text-align: right;\n",
       "    }\n",
       "</style>\n",
       "<table border=\"1\" class=\"dataframe\">\n",
       "  <thead>\n",
       "    <tr style=\"text-align: right;\">\n",
       "      <th></th>\n",
       "      <th>id</th>\n",
       "      <th>evaluationYear</th>\n",
       "      <th>propertyValue</th>\n",
       "      <th>groundValue</th>\n",
       "      <th>propertyTax</th>\n",
       "      <th>groundTax</th>\n",
       "      <th>totalAddressTax</th>\n",
       "      <th>address</th>\n",
       "      <th>house_nr</th>\n",
       "      <th>street_name</th>\n",
       "      <th>...</th>\n",
       "      <th>preservation_3.0</th>\n",
       "      <th>preservation_4.0</th>\n",
       "      <th>preservation_5.0</th>\n",
       "      <th>preservation_6.0</th>\n",
       "      <th>preservation_7.0</th>\n",
       "      <th>preservation_8.0</th>\n",
       "      <th>preservation_9.0</th>\n",
       "      <th>stormCouncilsFloodSelfRisk_0.0</th>\n",
       "      <th>stormCouncilsFloodSelfRisk_1.0</th>\n",
       "      <th>stormCouncilsFloodSelfRisk_3.0</th>\n",
       "    </tr>\n",
       "  </thead>\n",
       "  <tbody>\n",
       "    <tr>\n",
       "      <th>0</th>\n",
       "      <td>0a3f5099-2658-32b8-e044-0003ba298018</td>\n",
       "      <td>2022</td>\n",
       "      <td>0.0</td>\n",
       "      <td>151000.0</td>\n",
       "      <td>0.0</td>\n",
       "      <td>1595.0</td>\n",
       "      <td>1595.0</td>\n",
       "      <td>Dalvej 4, 9460 Brovst</td>\n",
       "      <td>4</td>\n",
       "      <td>Dalvej</td>\n",
       "      <td>...</td>\n",
       "      <td>0</td>\n",
       "      <td>0</td>\n",
       "      <td>0</td>\n",
       "      <td>0</td>\n",
       "      <td>0</td>\n",
       "      <td>0</td>\n",
       "      <td>0</td>\n",
       "      <td>0</td>\n",
       "      <td>0</td>\n",
       "      <td>0</td>\n",
       "    </tr>\n",
       "    <tr>\n",
       "      <th>1</th>\n",
       "      <td>0a3f509a-a37e-32b8-e044-0003ba298018</td>\n",
       "      <td>2022</td>\n",
       "      <td>0.0</td>\n",
       "      <td>14000.0</td>\n",
       "      <td>0.0</td>\n",
       "      <td>185.0</td>\n",
       "      <td>185.0</td>\n",
       "      <td>Ved Klitten 24, Skallerup Klit, 9800 Hjørring</td>\n",
       "      <td>24</td>\n",
       "      <td>Ved Klitten</td>\n",
       "      <td>...</td>\n",
       "      <td>0</td>\n",
       "      <td>0</td>\n",
       "      <td>0</td>\n",
       "      <td>0</td>\n",
       "      <td>0</td>\n",
       "      <td>0</td>\n",
       "      <td>0</td>\n",
       "      <td>0</td>\n",
       "      <td>0</td>\n",
       "      <td>0</td>\n",
       "    </tr>\n",
       "    <tr>\n",
       "      <th>2</th>\n",
       "      <td>0a3f509c-0e8d-32b8-e044-0003ba298018</td>\n",
       "      <td>2022</td>\n",
       "      <td>0.0</td>\n",
       "      <td>1078000.0</td>\n",
       "      <td>0.0</td>\n",
       "      <td>11384.0</td>\n",
       "      <td>11384.0</td>\n",
       "      <td>Toftevej 46, 9440 Aabybro</td>\n",
       "      <td>46</td>\n",
       "      <td>Toftevej</td>\n",
       "      <td>...</td>\n",
       "      <td>0</td>\n",
       "      <td>0</td>\n",
       "      <td>0</td>\n",
       "      <td>0</td>\n",
       "      <td>0</td>\n",
       "      <td>0</td>\n",
       "      <td>0</td>\n",
       "      <td>0</td>\n",
       "      <td>0</td>\n",
       "      <td>0</td>\n",
       "    </tr>\n",
       "    <tr>\n",
       "      <th>3</th>\n",
       "      <td>0a3f5087-eaf8-32b8-e044-0003ba298018</td>\n",
       "      <td>2023</td>\n",
       "      <td>1314000.0</td>\n",
       "      <td>548000.0</td>\n",
       "      <td>5361.0</td>\n",
       "      <td>3726.0</td>\n",
       "      <td>9087.0</td>\n",
       "      <td>Vejlegårdsvej 68, Vejle, 5672 Broby</td>\n",
       "      <td>68</td>\n",
       "      <td>Vejlegårdsvej</td>\n",
       "      <td>...</td>\n",
       "      <td>0</td>\n",
       "      <td>0</td>\n",
       "      <td>0</td>\n",
       "      <td>0</td>\n",
       "      <td>0</td>\n",
       "      <td>0</td>\n",
       "      <td>0</td>\n",
       "      <td>0</td>\n",
       "      <td>0</td>\n",
       "      <td>0</td>\n",
       "    </tr>\n",
       "    <tr>\n",
       "      <th>4</th>\n",
       "      <td>0a3f5086-c3f8-32b8-e044-0003ba298018</td>\n",
       "      <td>2023</td>\n",
       "      <td>1370000.0</td>\n",
       "      <td>788000.0</td>\n",
       "      <td>5590.0</td>\n",
       "      <td>5232.0</td>\n",
       "      <td>10822.0</td>\n",
       "      <td>Algade 16B, 4660 Store Heddinge</td>\n",
       "      <td>16B</td>\n",
       "      <td>Algade</td>\n",
       "      <td>...</td>\n",
       "      <td>0</td>\n",
       "      <td>0</td>\n",
       "      <td>0</td>\n",
       "      <td>0</td>\n",
       "      <td>0</td>\n",
       "      <td>0</td>\n",
       "      <td>0</td>\n",
       "      <td>0</td>\n",
       "      <td>0</td>\n",
       "      <td>0</td>\n",
       "    </tr>\n",
       "  </tbody>\n",
       "</table>\n",
       "<p>5 rows × 287 columns</p>\n",
       "</div>"
      ],
      "text/plain": [
       "                                     id  evaluationYear  propertyValue  \\\n",
       "0  0a3f5099-2658-32b8-e044-0003ba298018            2022            0.0   \n",
       "1  0a3f509a-a37e-32b8-e044-0003ba298018            2022            0.0   \n",
       "2  0a3f509c-0e8d-32b8-e044-0003ba298018            2022            0.0   \n",
       "3  0a3f5087-eaf8-32b8-e044-0003ba298018            2023      1314000.0   \n",
       "4  0a3f5086-c3f8-32b8-e044-0003ba298018            2023      1370000.0   \n",
       "\n",
       "   groundValue  propertyTax  groundTax  totalAddressTax  \\\n",
       "0     151000.0          0.0     1595.0           1595.0   \n",
       "1      14000.0          0.0      185.0            185.0   \n",
       "2    1078000.0          0.0    11384.0          11384.0   \n",
       "3     548000.0       5361.0     3726.0           9087.0   \n",
       "4     788000.0       5590.0     5232.0          10822.0   \n",
       "\n",
       "                                         address house_nr    street_name  ...  \\\n",
       "0                          Dalvej 4, 9460 Brovst        4         Dalvej  ...   \n",
       "1  Ved Klitten 24, Skallerup Klit, 9800 Hjørring       24    Ved Klitten  ...   \n",
       "2                      Toftevej 46, 9440 Aabybro       46       Toftevej  ...   \n",
       "3            Vejlegårdsvej 68, Vejle, 5672 Broby       68  Vejlegårdsvej  ...   \n",
       "4                Algade 16B, 4660 Store Heddinge      16B         Algade  ...   \n",
       "\n",
       "  preservation_3.0  preservation_4.0  preservation_5.0  preservation_6.0  \\\n",
       "0                0                 0                 0                 0   \n",
       "1                0                 0                 0                 0   \n",
       "2                0                 0                 0                 0   \n",
       "3                0                 0                 0                 0   \n",
       "4                0                 0                 0                 0   \n",
       "\n",
       "   preservation_7.0  preservation_8.0  preservation_9.0  \\\n",
       "0                 0                 0                 0   \n",
       "1                 0                 0                 0   \n",
       "2                 0                 0                 0   \n",
       "3                 0                 0                 0   \n",
       "4                 0                 0                 0   \n",
       "\n",
       "   stormCouncilsFloodSelfRisk_0.0  stormCouncilsFloodSelfRisk_1.0  \\\n",
       "0                               0                               0   \n",
       "1                               0                               0   \n",
       "2                               0                               0   \n",
       "3                               0                               0   \n",
       "4                               0                               0   \n",
       "\n",
       "   stormCouncilsFloodSelfRisk_3.0  \n",
       "0                               0  \n",
       "1                               0  \n",
       "2                               0  \n",
       "3                               0  \n",
       "4                               0  \n",
       "\n",
       "[5 rows x 287 columns]"
      ]
     },
     "execution_count": 28,
     "metadata": {},
     "output_type": "execute_result"
    }
   ],
   "source": [
    "ds = pd.read_csv('data/DS_with_one_hot.csv', delimiter=';')\n",
    "ds.head()"
   ]
  },
  {
   "cell_type": "code",
   "execution_count": 3,
   "metadata": {},
   "outputs": [
    {
     "data": {
      "text/html": [
       "<div>\n",
       "<style scoped>\n",
       "    .dataframe tbody tr th:only-of-type {\n",
       "        vertical-align: middle;\n",
       "    }\n",
       "\n",
       "    .dataframe tbody tr th {\n",
       "        vertical-align: top;\n",
       "    }\n",
       "\n",
       "    .dataframe thead th {\n",
       "        text-align: right;\n",
       "    }\n",
       "</style>\n",
       "<table border=\"1\" class=\"dataframe\">\n",
       "  <thead>\n",
       "    <tr style=\"text-align: right;\">\n",
       "      <th></th>\n",
       "      <th>evaluationYear</th>\n",
       "      <th>propertyValue</th>\n",
       "      <th>groundValue</th>\n",
       "      <th>propertyTax</th>\n",
       "      <th>groundTax</th>\n",
       "      <th>totalAddressTax</th>\n",
       "      <th>postal_nr</th>\n",
       "      <th>accessArea</th>\n",
       "      <th>constructionYear</th>\n",
       "      <th>locationOnLakeTerritory</th>\n",
       "      <th>...</th>\n",
       "      <th>preservation_3.0</th>\n",
       "      <th>preservation_4.0</th>\n",
       "      <th>preservation_5.0</th>\n",
       "      <th>preservation_6.0</th>\n",
       "      <th>preservation_7.0</th>\n",
       "      <th>preservation_8.0</th>\n",
       "      <th>preservation_9.0</th>\n",
       "      <th>stormCouncilsFloodSelfRisk_0.0</th>\n",
       "      <th>stormCouncilsFloodSelfRisk_1.0</th>\n",
       "      <th>stormCouncilsFloodSelfRisk_3.0</th>\n",
       "    </tr>\n",
       "  </thead>\n",
       "  <tbody>\n",
       "    <tr>\n",
       "      <th>count</th>\n",
       "      <td>1.358949e+06</td>\n",
       "      <td>1.358949e+06</td>\n",
       "      <td>1.358949e+06</td>\n",
       "      <td>1.358949e+06</td>\n",
       "      <td>1.358949e+06</td>\n",
       "      <td>1.358949e+06</td>\n",
       "      <td>1.358949e+06</td>\n",
       "      <td>2942.000000</td>\n",
       "      <td>1.357645e+06</td>\n",
       "      <td>1.350466e+06</td>\n",
       "      <td>...</td>\n",
       "      <td>1.358949e+06</td>\n",
       "      <td>1.358949e+06</td>\n",
       "      <td>1.358949e+06</td>\n",
       "      <td>1.358949e+06</td>\n",
       "      <td>1.358949e+06</td>\n",
       "      <td>1.358949e+06</td>\n",
       "      <td>1.358949e+06</td>\n",
       "      <td>1.358949e+06</td>\n",
       "      <td>1.358949e+06</td>\n",
       "      <td>1.358949e+06</td>\n",
       "    </tr>\n",
       "    <tr>\n",
       "      <th>mean</th>\n",
       "      <td>2.022050e+03</td>\n",
       "      <td>2.645000e+06</td>\n",
       "      <td>1.453169e+06</td>\n",
       "      <td>1.124420e+04</td>\n",
       "      <td>9.949117e+03</td>\n",
       "      <td>2.119332e+04</td>\n",
       "      <td>6.037698e+03</td>\n",
       "      <td>111.413664</td>\n",
       "      <td>1.978546e+03</td>\n",
       "      <td>1.406922e-05</td>\n",
       "      <td>...</td>\n",
       "      <td>7.005414e-04</td>\n",
       "      <td>4.415177e-06</td>\n",
       "      <td>1.250967e-05</td>\n",
       "      <td>9.419044e-05</td>\n",
       "      <td>1.162663e-04</td>\n",
       "      <td>6.026716e-04</td>\n",
       "      <td>1.332648e-03</td>\n",
       "      <td>1.101587e-03</td>\n",
       "      <td>3.458555e-05</td>\n",
       "      <td>3.370252e-04</td>\n",
       "    </tr>\n",
       "    <tr>\n",
       "      <th>std</th>\n",
       "      <td>2.183435e-01</td>\n",
       "      <td>2.567614e+06</td>\n",
       "      <td>2.021142e+06</td>\n",
       "      <td>1.553433e+04</td>\n",
       "      <td>1.162391e+04</td>\n",
       "      <td>2.378140e+04</td>\n",
       "      <td>2.216607e+03</td>\n",
       "      <td>240.506983</td>\n",
       "      <td>3.676692e+01</td>\n",
       "      <td>3.750871e-03</td>\n",
       "      <td>...</td>\n",
       "      <td>2.645848e-02</td>\n",
       "      <td>2.101228e-03</td>\n",
       "      <td>3.536880e-03</td>\n",
       "      <td>9.704722e-03</td>\n",
       "      <td>1.078206e-02</td>\n",
       "      <td>2.454198e-02</td>\n",
       "      <td>3.648113e-02</td>\n",
       "      <td>3.317188e-02</td>\n",
       "      <td>5.880849e-03</td>\n",
       "      <td>1.835516e-02</td>\n",
       "    </tr>\n",
       "    <tr>\n",
       "      <th>min</th>\n",
       "      <td>2.022000e+03</td>\n",
       "      <td>0.000000e+00</td>\n",
       "      <td>0.000000e+00</td>\n",
       "      <td>0.000000e+00</td>\n",
       "      <td>0.000000e+00</td>\n",
       "      <td>5.000000e+00</td>\n",
       "      <td>1.050000e+03</td>\n",
       "      <td>-36.000000</td>\n",
       "      <td>1.000000e+03</td>\n",
       "      <td>0.000000e+00</td>\n",
       "      <td>...</td>\n",
       "      <td>0.000000e+00</td>\n",
       "      <td>0.000000e+00</td>\n",
       "      <td>0.000000e+00</td>\n",
       "      <td>0.000000e+00</td>\n",
       "      <td>0.000000e+00</td>\n",
       "      <td>0.000000e+00</td>\n",
       "      <td>0.000000e+00</td>\n",
       "      <td>0.000000e+00</td>\n",
       "      <td>0.000000e+00</td>\n",
       "      <td>0.000000e+00</td>\n",
       "    </tr>\n",
       "    <tr>\n",
       "      <th>25%</th>\n",
       "      <td>2.022000e+03</td>\n",
       "      <td>1.183000e+06</td>\n",
       "      <td>4.130000e+05</td>\n",
       "      <td>4.827000e+03</td>\n",
       "      <td>3.754000e+03</td>\n",
       "      <td>8.979000e+03</td>\n",
       "      <td>4.200000e+03</td>\n",
       "      <td>18.000000</td>\n",
       "      <td>1.966000e+03</td>\n",
       "      <td>0.000000e+00</td>\n",
       "      <td>...</td>\n",
       "      <td>0.000000e+00</td>\n",
       "      <td>0.000000e+00</td>\n",
       "      <td>0.000000e+00</td>\n",
       "      <td>0.000000e+00</td>\n",
       "      <td>0.000000e+00</td>\n",
       "      <td>0.000000e+00</td>\n",
       "      <td>0.000000e+00</td>\n",
       "      <td>0.000000e+00</td>\n",
       "      <td>0.000000e+00</td>\n",
       "      <td>0.000000e+00</td>\n",
       "    </tr>\n",
       "    <tr>\n",
       "      <th>50%</th>\n",
       "      <td>2.022000e+03</td>\n",
       "      <td>1.910000e+06</td>\n",
       "      <td>8.550000e+05</td>\n",
       "      <td>7.793000e+03</td>\n",
       "      <td>7.009000e+03</td>\n",
       "      <td>1.524200e+04</td>\n",
       "      <td>6.000000e+03</td>\n",
       "      <td>36.000000</td>\n",
       "      <td>1.982000e+03</td>\n",
       "      <td>0.000000e+00</td>\n",
       "      <td>...</td>\n",
       "      <td>0.000000e+00</td>\n",
       "      <td>0.000000e+00</td>\n",
       "      <td>0.000000e+00</td>\n",
       "      <td>0.000000e+00</td>\n",
       "      <td>0.000000e+00</td>\n",
       "      <td>0.000000e+00</td>\n",
       "      <td>0.000000e+00</td>\n",
       "      <td>0.000000e+00</td>\n",
       "      <td>0.000000e+00</td>\n",
       "      <td>0.000000e+00</td>\n",
       "    </tr>\n",
       "    <tr>\n",
       "      <th>75%</th>\n",
       "      <td>2.022000e+03</td>\n",
       "      <td>3.230000e+06</td>\n",
       "      <td>1.856000e+06</td>\n",
       "      <td>1.317800e+04</td>\n",
       "      <td>1.306400e+04</td>\n",
       "      <td>2.617800e+04</td>\n",
       "      <td>8.250000e+03</td>\n",
       "      <td>108.000000</td>\n",
       "      <td>2.004000e+03</td>\n",
       "      <td>0.000000e+00</td>\n",
       "      <td>...</td>\n",
       "      <td>0.000000e+00</td>\n",
       "      <td>0.000000e+00</td>\n",
       "      <td>0.000000e+00</td>\n",
       "      <td>0.000000e+00</td>\n",
       "      <td>0.000000e+00</td>\n",
       "      <td>0.000000e+00</td>\n",
       "      <td>0.000000e+00</td>\n",
       "      <td>0.000000e+00</td>\n",
       "      <td>0.000000e+00</td>\n",
       "      <td>0.000000e+00</td>\n",
       "    </tr>\n",
       "    <tr>\n",
       "      <th>max</th>\n",
       "      <td>2.023000e+03</td>\n",
       "      <td>2.802970e+08</td>\n",
       "      <td>7.116960e+08</td>\n",
       "      <td>3.057446e+06</td>\n",
       "      <td>3.700819e+06</td>\n",
       "      <td>3.700819e+06</td>\n",
       "      <td>9.990000e+03</td>\n",
       "      <td>5485.000000</td>\n",
       "      <td>2.106000e+03</td>\n",
       "      <td>1.000000e+00</td>\n",
       "      <td>...</td>\n",
       "      <td>1.000000e+00</td>\n",
       "      <td>1.000000e+00</td>\n",
       "      <td>1.000000e+00</td>\n",
       "      <td>1.000000e+00</td>\n",
       "      <td>1.000000e+00</td>\n",
       "      <td>1.000000e+00</td>\n",
       "      <td>1.000000e+00</td>\n",
       "      <td>1.000000e+00</td>\n",
       "      <td>1.000000e+00</td>\n",
       "      <td>1.000000e+00</td>\n",
       "    </tr>\n",
       "  </tbody>\n",
       "</table>\n",
       "<p>8 rows × 282 columns</p>\n",
       "</div>"
      ],
      "text/plain": [
       "       evaluationYear  propertyValue   groundValue   propertyTax  \\\n",
       "count    1.358949e+06   1.358949e+06  1.358949e+06  1.358949e+06   \n",
       "mean     2.022050e+03   2.645000e+06  1.453169e+06  1.124420e+04   \n",
       "std      2.183435e-01   2.567614e+06  2.021142e+06  1.553433e+04   \n",
       "min      2.022000e+03   0.000000e+00  0.000000e+00  0.000000e+00   \n",
       "25%      2.022000e+03   1.183000e+06  4.130000e+05  4.827000e+03   \n",
       "50%      2.022000e+03   1.910000e+06  8.550000e+05  7.793000e+03   \n",
       "75%      2.022000e+03   3.230000e+06  1.856000e+06  1.317800e+04   \n",
       "max      2.023000e+03   2.802970e+08  7.116960e+08  3.057446e+06   \n",
       "\n",
       "          groundTax  totalAddressTax     postal_nr   accessArea  \\\n",
       "count  1.358949e+06     1.358949e+06  1.358949e+06  2942.000000   \n",
       "mean   9.949117e+03     2.119332e+04  6.037698e+03   111.413664   \n",
       "std    1.162391e+04     2.378140e+04  2.216607e+03   240.506983   \n",
       "min    0.000000e+00     5.000000e+00  1.050000e+03   -36.000000   \n",
       "25%    3.754000e+03     8.979000e+03  4.200000e+03    18.000000   \n",
       "50%    7.009000e+03     1.524200e+04  6.000000e+03    36.000000   \n",
       "75%    1.306400e+04     2.617800e+04  8.250000e+03   108.000000   \n",
       "max    3.700819e+06     3.700819e+06  9.990000e+03  5485.000000   \n",
       "\n",
       "       constructionYear  locationOnLakeTerritory  ...  preservation_3.0  \\\n",
       "count      1.357645e+06             1.350466e+06  ...      1.358949e+06   \n",
       "mean       1.978546e+03             1.406922e-05  ...      7.005414e-04   \n",
       "std        3.676692e+01             3.750871e-03  ...      2.645848e-02   \n",
       "min        1.000000e+03             0.000000e+00  ...      0.000000e+00   \n",
       "25%        1.966000e+03             0.000000e+00  ...      0.000000e+00   \n",
       "50%        1.982000e+03             0.000000e+00  ...      0.000000e+00   \n",
       "75%        2.004000e+03             0.000000e+00  ...      0.000000e+00   \n",
       "max        2.106000e+03             1.000000e+00  ...      1.000000e+00   \n",
       "\n",
       "       preservation_4.0  preservation_5.0  preservation_6.0  preservation_7.0  \\\n",
       "count      1.358949e+06      1.358949e+06      1.358949e+06      1.358949e+06   \n",
       "mean       4.415177e-06      1.250967e-05      9.419044e-05      1.162663e-04   \n",
       "std        2.101228e-03      3.536880e-03      9.704722e-03      1.078206e-02   \n",
       "min        0.000000e+00      0.000000e+00      0.000000e+00      0.000000e+00   \n",
       "25%        0.000000e+00      0.000000e+00      0.000000e+00      0.000000e+00   \n",
       "50%        0.000000e+00      0.000000e+00      0.000000e+00      0.000000e+00   \n",
       "75%        0.000000e+00      0.000000e+00      0.000000e+00      0.000000e+00   \n",
       "max        1.000000e+00      1.000000e+00      1.000000e+00      1.000000e+00   \n",
       "\n",
       "       preservation_8.0  preservation_9.0  stormCouncilsFloodSelfRisk_0.0  \\\n",
       "count      1.358949e+06      1.358949e+06                    1.358949e+06   \n",
       "mean       6.026716e-04      1.332648e-03                    1.101587e-03   \n",
       "std        2.454198e-02      3.648113e-02                    3.317188e-02   \n",
       "min        0.000000e+00      0.000000e+00                    0.000000e+00   \n",
       "25%        0.000000e+00      0.000000e+00                    0.000000e+00   \n",
       "50%        0.000000e+00      0.000000e+00                    0.000000e+00   \n",
       "75%        0.000000e+00      0.000000e+00                    0.000000e+00   \n",
       "max        1.000000e+00      1.000000e+00                    1.000000e+00   \n",
       "\n",
       "       stormCouncilsFloodSelfRisk_1.0  stormCouncilsFloodSelfRisk_3.0  \n",
       "count                    1.358949e+06                    1.358949e+06  \n",
       "mean                     3.458555e-05                    3.370252e-04  \n",
       "std                      5.880849e-03                    1.835516e-02  \n",
       "min                      0.000000e+00                    0.000000e+00  \n",
       "25%                      0.000000e+00                    0.000000e+00  \n",
       "50%                      0.000000e+00                    0.000000e+00  \n",
       "75%                      0.000000e+00                    0.000000e+00  \n",
       "max                      1.000000e+00                    1.000000e+00  \n",
       "\n",
       "[8 rows x 282 columns]"
      ]
     },
     "execution_count": 3,
     "metadata": {},
     "output_type": "execute_result"
    }
   ],
   "source": [
    "ds.describe()"
   ]
  },
  {
   "cell_type": "code",
   "execution_count": 29,
   "metadata": {},
   "outputs": [],
   "source": [
    "ds.set_index('id', inplace=True)\n",
    "ds['totalAddressValue'] = ds['propertyValue'] + ds['groundValue']"
   ]
  },
  {
   "cell_type": "code",
   "execution_count": 30,
   "metadata": {},
   "outputs": [
    {
     "ename": "MemoryError",
     "evalue": "Unable to allocate 2.58 GiB for an array with shape (257, 1345729) and data type int64",
     "output_type": "error",
     "traceback": [
      "\u001b[0;31m---------------------------------------------------------------------------\u001b[0m",
      "\u001b[0;31mMemoryError\u001b[0m                               Traceback (most recent call last)",
      "\u001b[0;32m<ipython-input-30-ddc8c0aeeb21>\u001b[0m in \u001b[0;36m<module>\u001b[0;34m\u001b[0m\n\u001b[1;32m     13\u001b[0m     \u001b[0;34m'house_nr'\u001b[0m\u001b[0;34m,\u001b[0m\u001b[0;34m\u001b[0m\u001b[0;34m\u001b[0m\u001b[0m\n\u001b[1;32m     14\u001b[0m     \u001b[0;34m'street_name'\u001b[0m\u001b[0;34m,\u001b[0m\u001b[0;34m\u001b[0m\u001b[0;34m\u001b[0m\u001b[0m\n\u001b[0;32m---> 15\u001b[0;31m     \u001b[0;34m'city_name'\u001b[0m\u001b[0;34m\u001b[0m\u001b[0;34m\u001b[0m\u001b[0m\n\u001b[0m\u001b[1;32m     16\u001b[0m ])\n\u001b[1;32m     17\u001b[0m \u001b[0;34m\u001b[0m\u001b[0m\n",
      "\u001b[0;32m~/courses/02807/02807-Project/02807/lib64/python3.6/site-packages/pandas/core/frame.py\u001b[0m in \u001b[0;36mdrop\u001b[0;34m(self, labels, axis, index, columns, level, inplace, errors)\u001b[0m\n\u001b[1;32m   4172\u001b[0m             \u001b[0mlevel\u001b[0m\u001b[0;34m=\u001b[0m\u001b[0mlevel\u001b[0m\u001b[0;34m,\u001b[0m\u001b[0;34m\u001b[0m\u001b[0;34m\u001b[0m\u001b[0m\n\u001b[1;32m   4173\u001b[0m             \u001b[0minplace\u001b[0m\u001b[0;34m=\u001b[0m\u001b[0minplace\u001b[0m\u001b[0;34m,\u001b[0m\u001b[0;34m\u001b[0m\u001b[0;34m\u001b[0m\u001b[0m\n\u001b[0;32m-> 4174\u001b[0;31m             \u001b[0merrors\u001b[0m\u001b[0;34m=\u001b[0m\u001b[0merrors\u001b[0m\u001b[0;34m,\u001b[0m\u001b[0;34m\u001b[0m\u001b[0;34m\u001b[0m\u001b[0m\n\u001b[0m\u001b[1;32m   4175\u001b[0m         )\n\u001b[1;32m   4176\u001b[0m \u001b[0;34m\u001b[0m\u001b[0m\n",
      "\u001b[0;32m~/courses/02807/02807-Project/02807/lib64/python3.6/site-packages/pandas/core/generic.py\u001b[0m in \u001b[0;36mdrop\u001b[0;34m(self, labels, axis, index, columns, level, inplace, errors)\u001b[0m\n\u001b[1;32m   3887\u001b[0m         \u001b[0;32mfor\u001b[0m \u001b[0maxis\u001b[0m\u001b[0;34m,\u001b[0m \u001b[0mlabels\u001b[0m \u001b[0;32min\u001b[0m \u001b[0maxes\u001b[0m\u001b[0;34m.\u001b[0m\u001b[0mitems\u001b[0m\u001b[0;34m(\u001b[0m\u001b[0;34m)\u001b[0m\u001b[0;34m:\u001b[0m\u001b[0;34m\u001b[0m\u001b[0;34m\u001b[0m\u001b[0m\n\u001b[1;32m   3888\u001b[0m             \u001b[0;32mif\u001b[0m \u001b[0mlabels\u001b[0m \u001b[0;32mis\u001b[0m \u001b[0;32mnot\u001b[0m \u001b[0;32mNone\u001b[0m\u001b[0;34m:\u001b[0m\u001b[0;34m\u001b[0m\u001b[0;34m\u001b[0m\u001b[0m\n\u001b[0;32m-> 3889\u001b[0;31m                 \u001b[0mobj\u001b[0m \u001b[0;34m=\u001b[0m \u001b[0mobj\u001b[0m\u001b[0;34m.\u001b[0m\u001b[0m_drop_axis\u001b[0m\u001b[0;34m(\u001b[0m\u001b[0mlabels\u001b[0m\u001b[0;34m,\u001b[0m \u001b[0maxis\u001b[0m\u001b[0;34m,\u001b[0m \u001b[0mlevel\u001b[0m\u001b[0;34m=\u001b[0m\u001b[0mlevel\u001b[0m\u001b[0;34m,\u001b[0m \u001b[0merrors\u001b[0m\u001b[0;34m=\u001b[0m\u001b[0merrors\u001b[0m\u001b[0;34m)\u001b[0m\u001b[0;34m\u001b[0m\u001b[0;34m\u001b[0m\u001b[0m\n\u001b[0m\u001b[1;32m   3890\u001b[0m \u001b[0;34m\u001b[0m\u001b[0m\n\u001b[1;32m   3891\u001b[0m         \u001b[0;32mif\u001b[0m \u001b[0minplace\u001b[0m\u001b[0;34m:\u001b[0m\u001b[0;34m\u001b[0m\u001b[0;34m\u001b[0m\u001b[0m\n",
      "\u001b[0;32m~/courses/02807/02807-Project/02807/lib64/python3.6/site-packages/pandas/core/generic.py\u001b[0m in \u001b[0;36m_drop_axis\u001b[0;34m(self, labels, axis, level, errors)\u001b[0m\n\u001b[1;32m   3922\u001b[0m             \u001b[0;32melse\u001b[0m\u001b[0;34m:\u001b[0m\u001b[0;34m\u001b[0m\u001b[0;34m\u001b[0m\u001b[0m\n\u001b[1;32m   3923\u001b[0m                 \u001b[0mnew_axis\u001b[0m \u001b[0;34m=\u001b[0m \u001b[0maxis\u001b[0m\u001b[0;34m.\u001b[0m\u001b[0mdrop\u001b[0m\u001b[0;34m(\u001b[0m\u001b[0mlabels\u001b[0m\u001b[0;34m,\u001b[0m \u001b[0merrors\u001b[0m\u001b[0;34m=\u001b[0m\u001b[0merrors\u001b[0m\u001b[0;34m)\u001b[0m\u001b[0;34m\u001b[0m\u001b[0;34m\u001b[0m\u001b[0m\n\u001b[0;32m-> 3924\u001b[0;31m             \u001b[0mresult\u001b[0m \u001b[0;34m=\u001b[0m \u001b[0mself\u001b[0m\u001b[0;34m.\u001b[0m\u001b[0mreindex\u001b[0m\u001b[0;34m(\u001b[0m\u001b[0;34m**\u001b[0m\u001b[0;34m{\u001b[0m\u001b[0maxis_name\u001b[0m\u001b[0;34m:\u001b[0m \u001b[0mnew_axis\u001b[0m\u001b[0;34m}\u001b[0m\u001b[0;34m)\u001b[0m\u001b[0;34m\u001b[0m\u001b[0;34m\u001b[0m\u001b[0m\n\u001b[0m\u001b[1;32m   3925\u001b[0m \u001b[0;34m\u001b[0m\u001b[0m\n\u001b[1;32m   3926\u001b[0m         \u001b[0;31m# Case for non-unique axis\u001b[0m\u001b[0;34m\u001b[0m\u001b[0;34m\u001b[0m\u001b[0;34m\u001b[0m\u001b[0m\n",
      "\u001b[0;32m~/courses/02807/02807-Project/02807/lib64/python3.6/site-packages/pandas/util/_decorators.py\u001b[0m in \u001b[0;36mwrapper\u001b[0;34m(*args, **kwargs)\u001b[0m\n\u001b[1;32m    307\u001b[0m         \u001b[0;34m@\u001b[0m\u001b[0mwraps\u001b[0m\u001b[0;34m(\u001b[0m\u001b[0mfunc\u001b[0m\u001b[0;34m)\u001b[0m\u001b[0;34m\u001b[0m\u001b[0;34m\u001b[0m\u001b[0m\n\u001b[1;32m    308\u001b[0m         \u001b[0;32mdef\u001b[0m \u001b[0mwrapper\u001b[0m\u001b[0;34m(\u001b[0m\u001b[0;34m*\u001b[0m\u001b[0margs\u001b[0m\u001b[0;34m,\u001b[0m \u001b[0;34m**\u001b[0m\u001b[0mkwargs\u001b[0m\u001b[0;34m)\u001b[0m \u001b[0;34m->\u001b[0m \u001b[0mCallable\u001b[0m\u001b[0;34m[\u001b[0m\u001b[0;34m...\u001b[0m\u001b[0;34m,\u001b[0m \u001b[0mAny\u001b[0m\u001b[0;34m]\u001b[0m\u001b[0;34m:\u001b[0m\u001b[0;34m\u001b[0m\u001b[0;34m\u001b[0m\u001b[0m\n\u001b[0;32m--> 309\u001b[0;31m             \u001b[0;32mreturn\u001b[0m \u001b[0mfunc\u001b[0m\u001b[0;34m(\u001b[0m\u001b[0;34m*\u001b[0m\u001b[0margs\u001b[0m\u001b[0;34m,\u001b[0m \u001b[0;34m**\u001b[0m\u001b[0mkwargs\u001b[0m\u001b[0;34m)\u001b[0m\u001b[0;34m\u001b[0m\u001b[0;34m\u001b[0m\u001b[0m\n\u001b[0m\u001b[1;32m    310\u001b[0m \u001b[0;34m\u001b[0m\u001b[0m\n\u001b[1;32m    311\u001b[0m         \u001b[0mkind\u001b[0m \u001b[0;34m=\u001b[0m \u001b[0minspect\u001b[0m\u001b[0;34m.\u001b[0m\u001b[0mParameter\u001b[0m\u001b[0;34m.\u001b[0m\u001b[0mPOSITIONAL_OR_KEYWORD\u001b[0m\u001b[0;34m\u001b[0m\u001b[0;34m\u001b[0m\u001b[0m\n",
      "\u001b[0;32m~/courses/02807/02807-Project/02807/lib64/python3.6/site-packages/pandas/core/frame.py\u001b[0m in \u001b[0;36mreindex\u001b[0;34m(self, *args, **kwargs)\u001b[0m\n\u001b[1;32m   4034\u001b[0m         \u001b[0mkwargs\u001b[0m\u001b[0;34m.\u001b[0m\u001b[0mpop\u001b[0m\u001b[0;34m(\u001b[0m\u001b[0;34m\"axis\"\u001b[0m\u001b[0;34m,\u001b[0m \u001b[0;32mNone\u001b[0m\u001b[0;34m)\u001b[0m\u001b[0;34m\u001b[0m\u001b[0;34m\u001b[0m\u001b[0m\n\u001b[1;32m   4035\u001b[0m         \u001b[0mkwargs\u001b[0m\u001b[0;34m.\u001b[0m\u001b[0mpop\u001b[0m\u001b[0;34m(\u001b[0m\u001b[0;34m\"labels\"\u001b[0m\u001b[0;34m,\u001b[0m \u001b[0;32mNone\u001b[0m\u001b[0;34m)\u001b[0m\u001b[0;34m\u001b[0m\u001b[0;34m\u001b[0m\u001b[0m\n\u001b[0;32m-> 4036\u001b[0;31m         \u001b[0;32mreturn\u001b[0m \u001b[0msuper\u001b[0m\u001b[0;34m(\u001b[0m\u001b[0;34m)\u001b[0m\u001b[0;34m.\u001b[0m\u001b[0mreindex\u001b[0m\u001b[0;34m(\u001b[0m\u001b[0;34m**\u001b[0m\u001b[0mkwargs\u001b[0m\u001b[0;34m)\u001b[0m\u001b[0;34m\u001b[0m\u001b[0;34m\u001b[0m\u001b[0m\n\u001b[0m\u001b[1;32m   4037\u001b[0m \u001b[0;34m\u001b[0m\u001b[0m\n\u001b[1;32m   4038\u001b[0m     def drop(\n",
      "\u001b[0;32m~/courses/02807/02807-Project/02807/lib64/python3.6/site-packages/pandas/core/generic.py\u001b[0m in \u001b[0;36mreindex\u001b[0;34m(self, *args, **kwargs)\u001b[0m\n\u001b[1;32m   4462\u001b[0m         \u001b[0;31m# perform the reindex on the axes\u001b[0m\u001b[0;34m\u001b[0m\u001b[0;34m\u001b[0m\u001b[0;34m\u001b[0m\u001b[0m\n\u001b[1;32m   4463\u001b[0m         return self._reindex_axes(\n\u001b[0;32m-> 4464\u001b[0;31m             \u001b[0maxes\u001b[0m\u001b[0;34m,\u001b[0m \u001b[0mlevel\u001b[0m\u001b[0;34m,\u001b[0m \u001b[0mlimit\u001b[0m\u001b[0;34m,\u001b[0m \u001b[0mtolerance\u001b[0m\u001b[0;34m,\u001b[0m \u001b[0mmethod\u001b[0m\u001b[0;34m,\u001b[0m \u001b[0mfill_value\u001b[0m\u001b[0;34m,\u001b[0m \u001b[0mcopy\u001b[0m\u001b[0;34m\u001b[0m\u001b[0;34m\u001b[0m\u001b[0m\n\u001b[0m\u001b[1;32m   4465\u001b[0m         ).__finalize__(self, method=\"reindex\")\n\u001b[1;32m   4466\u001b[0m \u001b[0;34m\u001b[0m\u001b[0m\n",
      "\u001b[0;32m~/courses/02807/02807-Project/02807/lib64/python3.6/site-packages/pandas/core/frame.py\u001b[0m in \u001b[0;36m_reindex_axes\u001b[0;34m(self, axes, level, limit, tolerance, method, fill_value, copy)\u001b[0m\n\u001b[1;32m   3875\u001b[0m         \u001b[0;32mif\u001b[0m \u001b[0mcolumns\u001b[0m \u001b[0;32mis\u001b[0m \u001b[0;32mnot\u001b[0m \u001b[0;32mNone\u001b[0m\u001b[0;34m:\u001b[0m\u001b[0;34m\u001b[0m\u001b[0;34m\u001b[0m\u001b[0m\n\u001b[1;32m   3876\u001b[0m             frame = frame._reindex_columns(\n\u001b[0;32m-> 3877\u001b[0;31m                 \u001b[0mcolumns\u001b[0m\u001b[0;34m,\u001b[0m \u001b[0mmethod\u001b[0m\u001b[0;34m,\u001b[0m \u001b[0mcopy\u001b[0m\u001b[0;34m,\u001b[0m \u001b[0mlevel\u001b[0m\u001b[0;34m,\u001b[0m \u001b[0mfill_value\u001b[0m\u001b[0;34m,\u001b[0m \u001b[0mlimit\u001b[0m\u001b[0;34m,\u001b[0m \u001b[0mtolerance\u001b[0m\u001b[0;34m\u001b[0m\u001b[0;34m\u001b[0m\u001b[0m\n\u001b[0m\u001b[1;32m   3878\u001b[0m             )\n\u001b[1;32m   3879\u001b[0m \u001b[0;34m\u001b[0m\u001b[0m\n",
      "\u001b[0;32m~/courses/02807/02807-Project/02807/lib64/python3.6/site-packages/pandas/core/frame.py\u001b[0m in \u001b[0;36m_reindex_columns\u001b[0;34m(self, new_columns, method, copy, level, fill_value, limit, tolerance)\u001b[0m\n\u001b[1;32m   3923\u001b[0m             \u001b[0mcopy\u001b[0m\u001b[0;34m=\u001b[0m\u001b[0mcopy\u001b[0m\u001b[0;34m,\u001b[0m\u001b[0;34m\u001b[0m\u001b[0;34m\u001b[0m\u001b[0m\n\u001b[1;32m   3924\u001b[0m             \u001b[0mfill_value\u001b[0m\u001b[0;34m=\u001b[0m\u001b[0mfill_value\u001b[0m\u001b[0;34m,\u001b[0m\u001b[0;34m\u001b[0m\u001b[0;34m\u001b[0m\u001b[0m\n\u001b[0;32m-> 3925\u001b[0;31m             \u001b[0mallow_dups\u001b[0m\u001b[0;34m=\u001b[0m\u001b[0;32mFalse\u001b[0m\u001b[0;34m,\u001b[0m\u001b[0;34m\u001b[0m\u001b[0;34m\u001b[0m\u001b[0m\n\u001b[0m\u001b[1;32m   3926\u001b[0m         )\n\u001b[1;32m   3927\u001b[0m \u001b[0;34m\u001b[0m\u001b[0m\n",
      "\u001b[0;32m~/courses/02807/02807-Project/02807/lib64/python3.6/site-packages/pandas/core/generic.py\u001b[0m in \u001b[0;36m_reindex_with_indexers\u001b[0;34m(self, reindexers, fill_value, copy, allow_dups)\u001b[0m\n\u001b[1;32m   4530\u001b[0m                 \u001b[0mfill_value\u001b[0m\u001b[0;34m=\u001b[0m\u001b[0mfill_value\u001b[0m\u001b[0;34m,\u001b[0m\u001b[0;34m\u001b[0m\u001b[0;34m\u001b[0m\u001b[0m\n\u001b[1;32m   4531\u001b[0m                 \u001b[0mallow_dups\u001b[0m\u001b[0;34m=\u001b[0m\u001b[0mallow_dups\u001b[0m\u001b[0;34m,\u001b[0m\u001b[0;34m\u001b[0m\u001b[0;34m\u001b[0m\u001b[0m\n\u001b[0;32m-> 4532\u001b[0;31m                 \u001b[0mcopy\u001b[0m\u001b[0;34m=\u001b[0m\u001b[0mcopy\u001b[0m\u001b[0;34m,\u001b[0m\u001b[0;34m\u001b[0m\u001b[0;34m\u001b[0m\u001b[0m\n\u001b[0m\u001b[1;32m   4533\u001b[0m             )\n\u001b[1;32m   4534\u001b[0m             \u001b[0;31m# If we've made a copy once, no need to make another one\u001b[0m\u001b[0;34m\u001b[0m\u001b[0;34m\u001b[0m\u001b[0;34m\u001b[0m\u001b[0m\n",
      "\u001b[0;32m~/courses/02807/02807-Project/02807/lib64/python3.6/site-packages/pandas/core/internals/managers.py\u001b[0m in \u001b[0;36mreindex_indexer\u001b[0;34m(self, new_axis, indexer, axis, fill_value, allow_dups, copy, consolidate)\u001b[0m\n\u001b[1;32m   1289\u001b[0m \u001b[0;34m\u001b[0m\u001b[0m\n\u001b[1;32m   1290\u001b[0m         \u001b[0;32mif\u001b[0m \u001b[0maxis\u001b[0m \u001b[0;34m==\u001b[0m \u001b[0;36m0\u001b[0m\u001b[0;34m:\u001b[0m\u001b[0;34m\u001b[0m\u001b[0;34m\u001b[0m\u001b[0m\n\u001b[0;32m-> 1291\u001b[0;31m             \u001b[0mnew_blocks\u001b[0m \u001b[0;34m=\u001b[0m \u001b[0mself\u001b[0m\u001b[0;34m.\u001b[0m\u001b[0m_slice_take_blocks_ax0\u001b[0m\u001b[0;34m(\u001b[0m\u001b[0mindexer\u001b[0m\u001b[0;34m,\u001b[0m \u001b[0mfill_value\u001b[0m\u001b[0;34m=\u001b[0m\u001b[0mfill_value\u001b[0m\u001b[0;34m)\u001b[0m\u001b[0;34m\u001b[0m\u001b[0;34m\u001b[0m\u001b[0m\n\u001b[0m\u001b[1;32m   1292\u001b[0m         \u001b[0;32melse\u001b[0m\u001b[0;34m:\u001b[0m\u001b[0;34m\u001b[0m\u001b[0;34m\u001b[0m\u001b[0m\n\u001b[1;32m   1293\u001b[0m             new_blocks = [\n",
      "\u001b[0;32m~/courses/02807/02807-Project/02807/lib64/python3.6/site-packages/pandas/core/internals/managers.py\u001b[0m in \u001b[0;36m_slice_take_blocks_ax0\u001b[0;34m(self, slice_or_indexer, fill_value, only_slice)\u001b[0m\n\u001b[1;32m   1417\u001b[0m                             \u001b[0mblocks\u001b[0m\u001b[0;34m.\u001b[0m\u001b[0mappend\u001b[0m\u001b[0;34m(\u001b[0m\u001b[0mnb\u001b[0m\u001b[0;34m)\u001b[0m\u001b[0;34m\u001b[0m\u001b[0;34m\u001b[0m\u001b[0m\n\u001b[1;32m   1418\u001b[0m                     \u001b[0;32melse\u001b[0m\u001b[0;34m:\u001b[0m\u001b[0;34m\u001b[0m\u001b[0;34m\u001b[0m\u001b[0m\n\u001b[0;32m-> 1419\u001b[0;31m                         \u001b[0mnb\u001b[0m \u001b[0;34m=\u001b[0m \u001b[0mblk\u001b[0m\u001b[0;34m.\u001b[0m\u001b[0mtake_nd\u001b[0m\u001b[0;34m(\u001b[0m\u001b[0mtaker\u001b[0m\u001b[0;34m,\u001b[0m \u001b[0maxis\u001b[0m\u001b[0;34m=\u001b[0m\u001b[0;36m0\u001b[0m\u001b[0;34m,\u001b[0m \u001b[0mnew_mgr_locs\u001b[0m\u001b[0;34m=\u001b[0m\u001b[0mmgr_locs\u001b[0m\u001b[0;34m)\u001b[0m\u001b[0;34m\u001b[0m\u001b[0;34m\u001b[0m\u001b[0m\n\u001b[0m\u001b[1;32m   1420\u001b[0m                         \u001b[0mblocks\u001b[0m\u001b[0;34m.\u001b[0m\u001b[0mappend\u001b[0m\u001b[0;34m(\u001b[0m\u001b[0mnb\u001b[0m\u001b[0;34m)\u001b[0m\u001b[0;34m\u001b[0m\u001b[0;34m\u001b[0m\u001b[0m\n\u001b[1;32m   1421\u001b[0m \u001b[0;34m\u001b[0m\u001b[0m\n",
      "\u001b[0;32m~/courses/02807/02807-Project/02807/lib64/python3.6/site-packages/pandas/core/internals/blocks.py\u001b[0m in \u001b[0;36mtake_nd\u001b[0;34m(self, indexer, axis, new_mgr_locs, fill_value)\u001b[0m\n\u001b[1;32m   1254\u001b[0m \u001b[0;34m\u001b[0m\u001b[0m\n\u001b[1;32m   1255\u001b[0m         new_values = algos.take_nd(\n\u001b[0;32m-> 1256\u001b[0;31m             \u001b[0mvalues\u001b[0m\u001b[0;34m,\u001b[0m \u001b[0mindexer\u001b[0m\u001b[0;34m,\u001b[0m \u001b[0maxis\u001b[0m\u001b[0;34m=\u001b[0m\u001b[0maxis\u001b[0m\u001b[0;34m,\u001b[0m \u001b[0mallow_fill\u001b[0m\u001b[0;34m=\u001b[0m\u001b[0mallow_fill\u001b[0m\u001b[0;34m,\u001b[0m \u001b[0mfill_value\u001b[0m\u001b[0;34m=\u001b[0m\u001b[0mfill_value\u001b[0m\u001b[0;34m\u001b[0m\u001b[0;34m\u001b[0m\u001b[0m\n\u001b[0m\u001b[1;32m   1257\u001b[0m         )\n\u001b[1;32m   1258\u001b[0m \u001b[0;34m\u001b[0m\u001b[0m\n",
      "\u001b[0;32m~/courses/02807/02807-Project/02807/lib64/python3.6/site-packages/pandas/core/algorithms.py\u001b[0m in \u001b[0;36mtake_nd\u001b[0;34m(arr, indexer, axis, out, fill_value, allow_fill)\u001b[0m\n\u001b[1;32m   1730\u001b[0m             \u001b[0mout\u001b[0m \u001b[0;34m=\u001b[0m \u001b[0mnp\u001b[0m\u001b[0;34m.\u001b[0m\u001b[0mempty\u001b[0m\u001b[0;34m(\u001b[0m\u001b[0mout_shape\u001b[0m\u001b[0;34m,\u001b[0m \u001b[0mdtype\u001b[0m\u001b[0;34m=\u001b[0m\u001b[0mdtype\u001b[0m\u001b[0;34m,\u001b[0m \u001b[0morder\u001b[0m\u001b[0;34m=\u001b[0m\u001b[0;34m\"F\"\u001b[0m\u001b[0;34m)\u001b[0m\u001b[0;34m\u001b[0m\u001b[0;34m\u001b[0m\u001b[0m\n\u001b[1;32m   1731\u001b[0m         \u001b[0;32melse\u001b[0m\u001b[0;34m:\u001b[0m\u001b[0;34m\u001b[0m\u001b[0;34m\u001b[0m\u001b[0m\n\u001b[0;32m-> 1732\u001b[0;31m             \u001b[0mout\u001b[0m \u001b[0;34m=\u001b[0m \u001b[0mnp\u001b[0m\u001b[0;34m.\u001b[0m\u001b[0mempty\u001b[0m\u001b[0;34m(\u001b[0m\u001b[0mout_shape\u001b[0m\u001b[0;34m,\u001b[0m \u001b[0mdtype\u001b[0m\u001b[0;34m=\u001b[0m\u001b[0mdtype\u001b[0m\u001b[0;34m)\u001b[0m\u001b[0;34m\u001b[0m\u001b[0;34m\u001b[0m\u001b[0m\n\u001b[0m\u001b[1;32m   1733\u001b[0m \u001b[0;34m\u001b[0m\u001b[0m\n\u001b[1;32m   1734\u001b[0m     func = _get_take_nd_function(\n",
      "\u001b[0;31mMemoryError\u001b[0m: Unable to allocate 2.58 GiB for an array with shape (257, 1345729) and data type int64"
     ]
    }
   ],
   "source": [
    "# Drop rows where property or ground value is 0\n",
    "ds_simple = ds.loc[(ds['propertyValue'] != 0.0) & (ds['groundValue'] != 0.0)]\n",
    "\n",
    "# Dropping useless columns\n",
    "ds_simple = ds_simple.drop(columns=[\n",
    "    'evaluationYear',\n",
    "    'groundValue',\n",
    "    'propertyValue',\n",
    "    'propertyTax',\n",
    "    'groundTax',\n",
    "    'totalAddressTax',\n",
    "    'address',\n",
    "    'house_nr',\n",
    "    'street_name',\n",
    "    'city_name'\n",
    "])\n",
    "\n",
    "# Filling area columns with 0 if nan\n",
    "area_columns = [col for col in ds_simple.columns if 'area' in col.lower()]\n",
    "ds_simple[area_columns] = ds_simple[area_columns].fillna(0)\n",
    "\n",
    "# Filling other columns with default 0 if nan\n",
    "misc_columns_with_nans = [\n",
    "    'locationOnLakeTerritory',\n",
    "    'numberOfFloors',\n",
    "    'shelterSpaces'\n",
    "]\n",
    "ds_simple[misc_columns_with_nans] = ds_simple[misc_columns_with_nans].fillna(0)\n",
    "\n",
    "ds_without_nans = ds_simple.dropna()"
   ]
  },
  {
   "cell_type": "code",
   "execution_count": 6,
   "metadata": {},
   "outputs": [],
   "source": [
    "ds_without_nans.to_csv('data/DS_totalAddressValue_no_nans.csv')"
   ]
  },
  {
   "cell_type": "code",
   "execution_count": 7,
   "metadata": {},
   "outputs": [
    {
     "name": "stdout",
     "output_type": "stream",
     "text": [
      "159\n"
     ]
    },
    {
     "data": {
      "text/plain": [
       "['buildingUsageType_110.0',\n",
       " 'buildingUsageType_121.0',\n",
       " 'buildingUsageType_122.0',\n",
       " 'buildingUsageType_150.0',\n",
       " 'buildingUsageType_160.0',\n",
       " 'buildingUsageType_185.0',\n",
       " 'buildingUsageType_190.0',\n",
       " 'buildingUsageType_210.0',\n",
       " 'buildingUsageType_211.0',\n",
       " 'buildingUsageType_212.0',\n",
       " 'buildingUsageType_213.0',\n",
       " 'buildingUsageType_214.0',\n",
       " 'buildingUsageType_215.0',\n",
       " 'buildingUsageType_216.0',\n",
       " 'buildingUsageType_218.0',\n",
       " 'buildingUsageType_220.0',\n",
       " 'buildingUsageType_221.0',\n",
       " 'buildingUsageType_222.0',\n",
       " 'buildingUsageType_229.0',\n",
       " 'buildingUsageType_230.0',\n",
       " 'buildingUsageType_231.0',\n",
       " 'buildingUsageType_232.0',\n",
       " 'buildingUsageType_233.0',\n",
       " 'buildingUsageType_234.0',\n",
       " 'buildingUsageType_239.0',\n",
       " 'buildingUsageType_290.0',\n",
       " 'buildingUsageType_310.0',\n",
       " 'buildingUsageType_311.0',\n",
       " 'buildingUsageType_313.0',\n",
       " 'buildingUsageType_314.0',\n",
       " 'buildingUsageType_319.0',\n",
       " 'buildingUsageType_320.0',\n",
       " 'buildingUsageType_321.0',\n",
       " 'buildingUsageType_322.0',\n",
       " 'buildingUsageType_324.0',\n",
       " 'buildingUsageType_329.0',\n",
       " 'buildingUsageType_330.0',\n",
       " 'buildingUsageType_331.0',\n",
       " 'buildingUsageType_332.0',\n",
       " 'buildingUsageType_333.0',\n",
       " 'buildingUsageType_334.0',\n",
       " 'buildingUsageType_339.0',\n",
       " 'buildingUsageType_390.0',\n",
       " 'buildingUsageType_410.0',\n",
       " 'buildingUsageType_411.0',\n",
       " 'buildingUsageType_412.0',\n",
       " 'buildingUsageType_413.0',\n",
       " 'buildingUsageType_414.0',\n",
       " 'buildingUsageType_415.0',\n",
       " 'buildingUsageType_419.0',\n",
       " 'buildingUsageType_420.0',\n",
       " 'buildingUsageType_421.0',\n",
       " 'buildingUsageType_422.0',\n",
       " 'buildingUsageType_429.0',\n",
       " 'buildingUsageType_430.0',\n",
       " 'buildingUsageType_431.0',\n",
       " 'buildingUsageType_433.0',\n",
       " 'buildingUsageType_439.0',\n",
       " 'buildingUsageType_440.0',\n",
       " 'buildingUsageType_441.0',\n",
       " 'buildingUsageType_442.0',\n",
       " 'buildingUsageType_443.0',\n",
       " 'buildingUsageType_449.0',\n",
       " 'buildingUsageType_490.0',\n",
       " 'buildingUsageType_520.0',\n",
       " 'buildingUsageType_521.0',\n",
       " 'buildingUsageType_522.0',\n",
       " 'buildingUsageType_523.0',\n",
       " 'buildingUsageType_529.0',\n",
       " 'buildingUsageType_530.0',\n",
       " 'buildingUsageType_531.0',\n",
       " 'buildingUsageType_532.0',\n",
       " 'buildingUsageType_533.0',\n",
       " 'buildingUsageType_535.0',\n",
       " 'buildingUsageType_539.0',\n",
       " 'buildingUsageType_540.0',\n",
       " 'buildingUsageType_590.0',\n",
       " 'buildingUsageType_990.0',\n",
       " 'waterSupplyType_3.0',\n",
       " 'waterSupplyType_4.0',\n",
       " 'waterSupplyType_6.0',\n",
       " 'waterSupplyType_7.0',\n",
       " 'drainageType_1.0',\n",
       " 'drainageType_2.0',\n",
       " 'drainageType_3.0',\n",
       " 'drainageType_4.0',\n",
       " 'drainageType_5.0',\n",
       " 'drainageType_6.0',\n",
       " 'drainageType_7.0',\n",
       " 'drainageType_8.0',\n",
       " 'drainageType_11.0',\n",
       " 'drainageType_12.0',\n",
       " 'drainageType_20.0',\n",
       " 'drainageType_21.0',\n",
       " 'drainageType_30.0',\n",
       " 'drainageType_31.0',\n",
       " 'drainageType_32.0',\n",
       " 'drainageType_70.0',\n",
       " 'drainageType_75.0',\n",
       " 'drainageType_80.0',\n",
       " 'drainageType_90.0',\n",
       " 'drainageType_101.0',\n",
       " 'drainageType_102.0',\n",
       " 'drainageType_103.0',\n",
       " 'drainageType_104.0',\n",
       " 'drainageType_105.0',\n",
       " 'drainageType_106.0',\n",
       " 'drainageType_107.0',\n",
       " 'drainageType_108.0',\n",
       " 'drainageType_190.0',\n",
       " 'drainageType_201.0',\n",
       " 'drainageType_202.0',\n",
       " 'drainageType_203.0',\n",
       " 'drainageType_204.0',\n",
       " 'drainageType_205.0',\n",
       " 'drainageType_206.0',\n",
       " 'drainageType_290.0',\n",
       " 'drainageType_301.0',\n",
       " 'drainageType_302.0',\n",
       " 'drainageType_390.0',\n",
       " 'drainageType_402.0',\n",
       " 'drainageType_403.0',\n",
       " 'drainageType_404.0',\n",
       " 'drainageType_490.0',\n",
       " 'drainageType_501.0',\n",
       " 'drainageType_502.0',\n",
       " 'drainageType_503.0',\n",
       " 'drainageType_504.0',\n",
       " 'drainageType_505.0',\n",
       " 'drainageType_590.0',\n",
       " 'roofMaterialType_80.0',\n",
       " 'supplementOuterWallMaterialType_3.0',\n",
       " 'supplementOuterWallMaterialType_4.0',\n",
       " 'supplementOuterWallMaterialType_6.0',\n",
       " 'supplementOuterWallMaterialType_11.0',\n",
       " 'supplementRoofMaterialType_7.0',\n",
       " 'supplementRoofMaterialType_20.0',\n",
       " 'supplementRoofMaterialType_80.0',\n",
       " 'asbestosHoldingMaterialType_1.0',\n",
       " 'asbestosHoldingMaterialType_3.0',\n",
       " 'asbestosHoldingMaterialType_4.0',\n",
       " 'asbestosHoldingMaterialType_5.0',\n",
       " 'deviantFloors_12.0',\n",
       " 'deviantFloors_13.0',\n",
       " 'heatingInstallation_8.0',\n",
       " 'heatingInstallation_99.0',\n",
       " 'heatingMedium_2.0',\n",
       " 'heatingMedium_99.0',\n",
       " 'supplementaryHeating_6.0',\n",
       " 'supplementaryHeating_10.0',\n",
       " 'preservation_1.0',\n",
       " 'preservation_2.0',\n",
       " 'preservation_4.0',\n",
       " 'preservation_5.0',\n",
       " 'preservation_6.0',\n",
       " 'preservation_7.0',\n",
       " 'preservation_8.0',\n",
       " 'stormCouncilsFloodSelfRisk_1.0',\n",
       " 'stormCouncilsFloodSelfRisk_3.0']"
      ]
     },
     "execution_count": 7,
     "metadata": {},
     "output_type": "execute_result"
    }
   ],
   "source": [
    "threshold = 500 # Based on the DBSCAN min_sample = 2*n_features\n",
    "onehot_columns_with_few_observations = []\n",
    "for col in [c for c in ds_without_nans.columns if '_' in c and c != 'postal_nr']:\n",
    "    if len(ds_without_nans.loc[ds_without_nans[col] == 1]) < threshold:\n",
    "        onehot_columns_with_few_observations.append(col)\n",
    "\n",
    "print(len(onehot_columns_with_few_observations))\n",
    "onehot_columns_with_few_observations"
   ]
  },
  {
   "cell_type": "code",
   "execution_count": 8,
   "metadata": {},
   "outputs": [
    {
     "name": "stdout",
     "output_type": "stream",
     "text": [
      "2\n"
     ]
    },
    {
     "data": {
      "text/plain": [
       "['areaOfWasteRoomAtGroundLevel', 'locationOnLakeTerritory']"
      ]
     },
     "execution_count": 8,
     "metadata": {},
     "output_type": "execute_result"
    }
   ],
   "source": [
    "other_columns_with_few_observations = []\n",
    "for col in [col for col in (set(ds_without_nans.columns) - set(onehot_columns_with_few_observations)) if '_' not in col]:\n",
    "    if len(ds_without_nans.loc[ds_without_nans[col] != 0]) < threshold:\n",
    "        other_columns_with_few_observations.append(col)\n",
    "\n",
    "print(len(other_columns_with_few_observations))\n",
    "other_columns_with_few_observations"
   ]
  },
  {
   "cell_type": "code",
   "execution_count": 9,
   "metadata": {},
   "outputs": [],
   "source": [
    "columns_with_few_observations = onehot_columns_with_few_observations + other_columns_with_few_observations\n",
    "ds_reduced = ds_without_nans.drop(columns=columns_with_few_observations)\n",
    "\n",
    "ds_reduced.to_csv('data/DS_reduced.csv')"
   ]
  },
  {
   "cell_type": "code",
   "execution_count": 10,
   "metadata": {},
   "outputs": [
    {
     "data": {
      "text/html": [
       "<div>\n",
       "<style scoped>\n",
       "    .dataframe tbody tr th:only-of-type {\n",
       "        vertical-align: middle;\n",
       "    }\n",
       "\n",
       "    .dataframe tbody tr th {\n",
       "        vertical-align: top;\n",
       "    }\n",
       "\n",
       "    .dataframe thead th {\n",
       "        text-align: right;\n",
       "    }\n",
       "</style>\n",
       "<table border=\"1\" class=\"dataframe\">\n",
       "  <thead>\n",
       "    <tr style=\"text-align: right;\">\n",
       "      <th></th>\n",
       "      <th>postal_nr</th>\n",
       "      <th>accessArea</th>\n",
       "      <th>constructionYear</th>\n",
       "      <th>areaOfBuiltInConservatoryOrSimilar</th>\n",
       "      <th>areaOfBuiltInShed</th>\n",
       "      <th>totalAreaOfClosedCoveringsOnTheBuilding</th>\n",
       "      <th>otherArea</th>\n",
       "      <th>areaOfCoveredArea</th>\n",
       "      <th>reconstructionOrExtensionYear</th>\n",
       "      <th>builtArea</th>\n",
       "      <th>...</th>\n",
       "      <th>supplementaryHeating_3.0</th>\n",
       "      <th>supplementaryHeating_4.0</th>\n",
       "      <th>supplementaryHeating_5.0</th>\n",
       "      <th>supplementaryHeating_7.0</th>\n",
       "      <th>supplementaryHeating_80.0</th>\n",
       "      <th>supplementaryHeating_90.0</th>\n",
       "      <th>preservation_3.0</th>\n",
       "      <th>preservation_9.0</th>\n",
       "      <th>stormCouncilsFloodSelfRisk_0.0</th>\n",
       "      <th>totalAddressValue</th>\n",
       "    </tr>\n",
       "    <tr>\n",
       "      <th>id</th>\n",
       "      <th></th>\n",
       "      <th></th>\n",
       "      <th></th>\n",
       "      <th></th>\n",
       "      <th></th>\n",
       "      <th></th>\n",
       "      <th></th>\n",
       "      <th></th>\n",
       "      <th></th>\n",
       "      <th></th>\n",
       "      <th></th>\n",
       "      <th></th>\n",
       "      <th></th>\n",
       "      <th></th>\n",
       "      <th></th>\n",
       "      <th></th>\n",
       "      <th></th>\n",
       "      <th></th>\n",
       "      <th></th>\n",
       "      <th></th>\n",
       "      <th></th>\n",
       "    </tr>\n",
       "  </thead>\n",
       "  <tbody>\n",
       "    <tr>\n",
       "      <th>0a3f5087-eaf8-32b8-e044-0003ba298018</th>\n",
       "      <td>5672</td>\n",
       "      <td>0.0</td>\n",
       "      <td>1937.0</td>\n",
       "      <td>0.0</td>\n",
       "      <td>0.0</td>\n",
       "      <td>0.0</td>\n",
       "      <td>0.0</td>\n",
       "      <td>0.0</td>\n",
       "      <td>1965.0</td>\n",
       "      <td>115.0</td>\n",
       "      <td>...</td>\n",
       "      <td>0</td>\n",
       "      <td>0</td>\n",
       "      <td>0</td>\n",
       "      <td>0</td>\n",
       "      <td>0</td>\n",
       "      <td>0</td>\n",
       "      <td>0</td>\n",
       "      <td>0</td>\n",
       "      <td>0</td>\n",
       "      <td>1862000.0</td>\n",
       "    </tr>\n",
       "    <tr>\n",
       "      <th>0a3f5086-c3f8-32b8-e044-0003ba298018</th>\n",
       "      <td>4660</td>\n",
       "      <td>0.0</td>\n",
       "      <td>1910.0</td>\n",
       "      <td>0.0</td>\n",
       "      <td>0.0</td>\n",
       "      <td>0.0</td>\n",
       "      <td>9.0</td>\n",
       "      <td>0.0</td>\n",
       "      <td>1996.0</td>\n",
       "      <td>178.0</td>\n",
       "      <td>...</td>\n",
       "      <td>0</td>\n",
       "      <td>0</td>\n",
       "      <td>0</td>\n",
       "      <td>0</td>\n",
       "      <td>0</td>\n",
       "      <td>0</td>\n",
       "      <td>0</td>\n",
       "      <td>0</td>\n",
       "      <td>0</td>\n",
       "      <td>2158000.0</td>\n",
       "    </tr>\n",
       "    <tr>\n",
       "      <th>0a3f5081-bcfc-32b8-e044-0003ba298018</th>\n",
       "      <td>4000</td>\n",
       "      <td>0.0</td>\n",
       "      <td>1964.0</td>\n",
       "      <td>0.0</td>\n",
       "      <td>0.0</td>\n",
       "      <td>0.0</td>\n",
       "      <td>0.0</td>\n",
       "      <td>8.0</td>\n",
       "      <td>1974.0</td>\n",
       "      <td>96.0</td>\n",
       "      <td>...</td>\n",
       "      <td>0</td>\n",
       "      <td>0</td>\n",
       "      <td>0</td>\n",
       "      <td>0</td>\n",
       "      <td>0</td>\n",
       "      <td>0</td>\n",
       "      <td>0</td>\n",
       "      <td>0</td>\n",
       "      <td>0</td>\n",
       "      <td>4321000.0</td>\n",
       "    </tr>\n",
       "    <tr>\n",
       "      <th>0a3f507c-1ffc-32b8-e044-0003ba298018</th>\n",
       "      <td>2800</td>\n",
       "      <td>0.0</td>\n",
       "      <td>1984.0</td>\n",
       "      <td>0.0</td>\n",
       "      <td>0.0</td>\n",
       "      <td>0.0</td>\n",
       "      <td>0.0</td>\n",
       "      <td>0.0</td>\n",
       "      <td>1980.0</td>\n",
       "      <td>90.0</td>\n",
       "      <td>...</td>\n",
       "      <td>0</td>\n",
       "      <td>0</td>\n",
       "      <td>0</td>\n",
       "      <td>0</td>\n",
       "      <td>0</td>\n",
       "      <td>0</td>\n",
       "      <td>0</td>\n",
       "      <td>0</td>\n",
       "      <td>0</td>\n",
       "      <td>12165000.0</td>\n",
       "    </tr>\n",
       "    <tr>\n",
       "      <th>0a3f5094-03fc-32b8-e044-0003ba298018</th>\n",
       "      <td>8870</td>\n",
       "      <td>0.0</td>\n",
       "      <td>1948.0</td>\n",
       "      <td>0.0</td>\n",
       "      <td>0.0</td>\n",
       "      <td>0.0</td>\n",
       "      <td>0.0</td>\n",
       "      <td>0.0</td>\n",
       "      <td>1984.0</td>\n",
       "      <td>70.0</td>\n",
       "      <td>...</td>\n",
       "      <td>0</td>\n",
       "      <td>0</td>\n",
       "      <td>0</td>\n",
       "      <td>0</td>\n",
       "      <td>0</td>\n",
       "      <td>0</td>\n",
       "      <td>0</td>\n",
       "      <td>0</td>\n",
       "      <td>0</td>\n",
       "      <td>1162000.0</td>\n",
       "    </tr>\n",
       "    <tr>\n",
       "      <th>...</th>\n",
       "      <td>...</td>\n",
       "      <td>...</td>\n",
       "      <td>...</td>\n",
       "      <td>...</td>\n",
       "      <td>...</td>\n",
       "      <td>...</td>\n",
       "      <td>...</td>\n",
       "      <td>...</td>\n",
       "      <td>...</td>\n",
       "      <td>...</td>\n",
       "      <td>...</td>\n",
       "      <td>...</td>\n",
       "      <td>...</td>\n",
       "      <td>...</td>\n",
       "      <td>...</td>\n",
       "      <td>...</td>\n",
       "      <td>...</td>\n",
       "      <td>...</td>\n",
       "      <td>...</td>\n",
       "      <td>...</td>\n",
       "      <td>...</td>\n",
       "    </tr>\n",
       "    <tr>\n",
       "      <th>0a3f507f-92f8-32b8-e044-0003ba298018</th>\n",
       "      <td>3200</td>\n",
       "      <td>0.0</td>\n",
       "      <td>1984.0</td>\n",
       "      <td>0.0</td>\n",
       "      <td>0.0</td>\n",
       "      <td>0.0</td>\n",
       "      <td>0.0</td>\n",
       "      <td>0.0</td>\n",
       "      <td>1967.0</td>\n",
       "      <td>140.0</td>\n",
       "      <td>...</td>\n",
       "      <td>0</td>\n",
       "      <td>0</td>\n",
       "      <td>0</td>\n",
       "      <td>0</td>\n",
       "      <td>0</td>\n",
       "      <td>0</td>\n",
       "      <td>0</td>\n",
       "      <td>0</td>\n",
       "      <td>0</td>\n",
       "      <td>3634000.0</td>\n",
       "    </tr>\n",
       "    <tr>\n",
       "      <th>0a3f5081-d2f8-32b8-e044-0003ba298018</th>\n",
       "      <td>4621</td>\n",
       "      <td>0.0</td>\n",
       "      <td>2002.0</td>\n",
       "      <td>0.0</td>\n",
       "      <td>23.0</td>\n",
       "      <td>0.0</td>\n",
       "      <td>0.0</td>\n",
       "      <td>19.0</td>\n",
       "      <td>1977.0</td>\n",
       "      <td>144.0</td>\n",
       "      <td>...</td>\n",
       "      <td>0</td>\n",
       "      <td>0</td>\n",
       "      <td>0</td>\n",
       "      <td>0</td>\n",
       "      <td>0</td>\n",
       "      <td>0</td>\n",
       "      <td>0</td>\n",
       "      <td>0</td>\n",
       "      <td>0</td>\n",
       "      <td>4535000.0</td>\n",
       "    </tr>\n",
       "    <tr>\n",
       "      <th>0a3f5080-a9f8-32b8-e044-0003ba298018</th>\n",
       "      <td>4050</td>\n",
       "      <td>0.0</td>\n",
       "      <td>1954.0</td>\n",
       "      <td>0.0</td>\n",
       "      <td>0.0</td>\n",
       "      <td>0.0</td>\n",
       "      <td>0.0</td>\n",
       "      <td>2.0</td>\n",
       "      <td>1974.0</td>\n",
       "      <td>121.0</td>\n",
       "      <td>...</td>\n",
       "      <td>0</td>\n",
       "      <td>0</td>\n",
       "      <td>0</td>\n",
       "      <td>0</td>\n",
       "      <td>0</td>\n",
       "      <td>0</td>\n",
       "      <td>0</td>\n",
       "      <td>0</td>\n",
       "      <td>0</td>\n",
       "      <td>2805000.0</td>\n",
       "    </tr>\n",
       "    <tr>\n",
       "      <th>0a3f509c-22f8-32b8-e044-0003ba298018</th>\n",
       "      <td>9000</td>\n",
       "      <td>0.0</td>\n",
       "      <td>1956.0</td>\n",
       "      <td>0.0</td>\n",
       "      <td>0.0</td>\n",
       "      <td>0.0</td>\n",
       "      <td>0.0</td>\n",
       "      <td>0.0</td>\n",
       "      <td>1976.0</td>\n",
       "      <td>84.0</td>\n",
       "      <td>...</td>\n",
       "      <td>0</td>\n",
       "      <td>0</td>\n",
       "      <td>0</td>\n",
       "      <td>0</td>\n",
       "      <td>0</td>\n",
       "      <td>0</td>\n",
       "      <td>0</td>\n",
       "      <td>0</td>\n",
       "      <td>0</td>\n",
       "      <td>6180000.0</td>\n",
       "    </tr>\n",
       "    <tr>\n",
       "      <th>0a3f508c-23f8-32b8-e044-0003ba298018</th>\n",
       "      <td>6230</td>\n",
       "      <td>0.0</td>\n",
       "      <td>1977.0</td>\n",
       "      <td>0.0</td>\n",
       "      <td>0.0</td>\n",
       "      <td>0.0</td>\n",
       "      <td>0.0</td>\n",
       "      <td>0.0</td>\n",
       "      <td>1997.0</td>\n",
       "      <td>116.0</td>\n",
       "      <td>...</td>\n",
       "      <td>0</td>\n",
       "      <td>0</td>\n",
       "      <td>0</td>\n",
       "      <td>0</td>\n",
       "      <td>0</td>\n",
       "      <td>0</td>\n",
       "      <td>0</td>\n",
       "      <td>0</td>\n",
       "      <td>0</td>\n",
       "      <td>794000.0</td>\n",
       "    </tr>\n",
       "  </tbody>\n",
       "</table>\n",
       "<p>515525 rows × 116 columns</p>\n",
       "</div>"
      ],
      "text/plain": [
       "                                      postal_nr  accessArea  constructionYear  \\\n",
       "id                                                                              \n",
       "0a3f5087-eaf8-32b8-e044-0003ba298018       5672         0.0            1937.0   \n",
       "0a3f5086-c3f8-32b8-e044-0003ba298018       4660         0.0            1910.0   \n",
       "0a3f5081-bcfc-32b8-e044-0003ba298018       4000         0.0            1964.0   \n",
       "0a3f507c-1ffc-32b8-e044-0003ba298018       2800         0.0            1984.0   \n",
       "0a3f5094-03fc-32b8-e044-0003ba298018       8870         0.0            1948.0   \n",
       "...                                         ...         ...               ...   \n",
       "0a3f507f-92f8-32b8-e044-0003ba298018       3200         0.0            1984.0   \n",
       "0a3f5081-d2f8-32b8-e044-0003ba298018       4621         0.0            2002.0   \n",
       "0a3f5080-a9f8-32b8-e044-0003ba298018       4050         0.0            1954.0   \n",
       "0a3f509c-22f8-32b8-e044-0003ba298018       9000         0.0            1956.0   \n",
       "0a3f508c-23f8-32b8-e044-0003ba298018       6230         0.0            1977.0   \n",
       "\n",
       "                                      areaOfBuiltInConservatoryOrSimilar  \\\n",
       "id                                                                         \n",
       "0a3f5087-eaf8-32b8-e044-0003ba298018                                 0.0   \n",
       "0a3f5086-c3f8-32b8-e044-0003ba298018                                 0.0   \n",
       "0a3f5081-bcfc-32b8-e044-0003ba298018                                 0.0   \n",
       "0a3f507c-1ffc-32b8-e044-0003ba298018                                 0.0   \n",
       "0a3f5094-03fc-32b8-e044-0003ba298018                                 0.0   \n",
       "...                                                                  ...   \n",
       "0a3f507f-92f8-32b8-e044-0003ba298018                                 0.0   \n",
       "0a3f5081-d2f8-32b8-e044-0003ba298018                                 0.0   \n",
       "0a3f5080-a9f8-32b8-e044-0003ba298018                                 0.0   \n",
       "0a3f509c-22f8-32b8-e044-0003ba298018                                 0.0   \n",
       "0a3f508c-23f8-32b8-e044-0003ba298018                                 0.0   \n",
       "\n",
       "                                      areaOfBuiltInShed  \\\n",
       "id                                                        \n",
       "0a3f5087-eaf8-32b8-e044-0003ba298018                0.0   \n",
       "0a3f5086-c3f8-32b8-e044-0003ba298018                0.0   \n",
       "0a3f5081-bcfc-32b8-e044-0003ba298018                0.0   \n",
       "0a3f507c-1ffc-32b8-e044-0003ba298018                0.0   \n",
       "0a3f5094-03fc-32b8-e044-0003ba298018                0.0   \n",
       "...                                                 ...   \n",
       "0a3f507f-92f8-32b8-e044-0003ba298018                0.0   \n",
       "0a3f5081-d2f8-32b8-e044-0003ba298018               23.0   \n",
       "0a3f5080-a9f8-32b8-e044-0003ba298018                0.0   \n",
       "0a3f509c-22f8-32b8-e044-0003ba298018                0.0   \n",
       "0a3f508c-23f8-32b8-e044-0003ba298018                0.0   \n",
       "\n",
       "                                      totalAreaOfClosedCoveringsOnTheBuilding  \\\n",
       "id                                                                              \n",
       "0a3f5087-eaf8-32b8-e044-0003ba298018                                      0.0   \n",
       "0a3f5086-c3f8-32b8-e044-0003ba298018                                      0.0   \n",
       "0a3f5081-bcfc-32b8-e044-0003ba298018                                      0.0   \n",
       "0a3f507c-1ffc-32b8-e044-0003ba298018                                      0.0   \n",
       "0a3f5094-03fc-32b8-e044-0003ba298018                                      0.0   \n",
       "...                                                                       ...   \n",
       "0a3f507f-92f8-32b8-e044-0003ba298018                                      0.0   \n",
       "0a3f5081-d2f8-32b8-e044-0003ba298018                                      0.0   \n",
       "0a3f5080-a9f8-32b8-e044-0003ba298018                                      0.0   \n",
       "0a3f509c-22f8-32b8-e044-0003ba298018                                      0.0   \n",
       "0a3f508c-23f8-32b8-e044-0003ba298018                                      0.0   \n",
       "\n",
       "                                      otherArea  areaOfCoveredArea  \\\n",
       "id                                                                   \n",
       "0a3f5087-eaf8-32b8-e044-0003ba298018        0.0                0.0   \n",
       "0a3f5086-c3f8-32b8-e044-0003ba298018        9.0                0.0   \n",
       "0a3f5081-bcfc-32b8-e044-0003ba298018        0.0                8.0   \n",
       "0a3f507c-1ffc-32b8-e044-0003ba298018        0.0                0.0   \n",
       "0a3f5094-03fc-32b8-e044-0003ba298018        0.0                0.0   \n",
       "...                                         ...                ...   \n",
       "0a3f507f-92f8-32b8-e044-0003ba298018        0.0                0.0   \n",
       "0a3f5081-d2f8-32b8-e044-0003ba298018        0.0               19.0   \n",
       "0a3f5080-a9f8-32b8-e044-0003ba298018        0.0                2.0   \n",
       "0a3f509c-22f8-32b8-e044-0003ba298018        0.0                0.0   \n",
       "0a3f508c-23f8-32b8-e044-0003ba298018        0.0                0.0   \n",
       "\n",
       "                                      reconstructionOrExtensionYear  \\\n",
       "id                                                                    \n",
       "0a3f5087-eaf8-32b8-e044-0003ba298018                         1965.0   \n",
       "0a3f5086-c3f8-32b8-e044-0003ba298018                         1996.0   \n",
       "0a3f5081-bcfc-32b8-e044-0003ba298018                         1974.0   \n",
       "0a3f507c-1ffc-32b8-e044-0003ba298018                         1980.0   \n",
       "0a3f5094-03fc-32b8-e044-0003ba298018                         1984.0   \n",
       "...                                                             ...   \n",
       "0a3f507f-92f8-32b8-e044-0003ba298018                         1967.0   \n",
       "0a3f5081-d2f8-32b8-e044-0003ba298018                         1977.0   \n",
       "0a3f5080-a9f8-32b8-e044-0003ba298018                         1974.0   \n",
       "0a3f509c-22f8-32b8-e044-0003ba298018                         1976.0   \n",
       "0a3f508c-23f8-32b8-e044-0003ba298018                         1997.0   \n",
       "\n",
       "                                      builtArea  ...  \\\n",
       "id                                               ...   \n",
       "0a3f5087-eaf8-32b8-e044-0003ba298018      115.0  ...   \n",
       "0a3f5086-c3f8-32b8-e044-0003ba298018      178.0  ...   \n",
       "0a3f5081-bcfc-32b8-e044-0003ba298018       96.0  ...   \n",
       "0a3f507c-1ffc-32b8-e044-0003ba298018       90.0  ...   \n",
       "0a3f5094-03fc-32b8-e044-0003ba298018       70.0  ...   \n",
       "...                                         ...  ...   \n",
       "0a3f507f-92f8-32b8-e044-0003ba298018      140.0  ...   \n",
       "0a3f5081-d2f8-32b8-e044-0003ba298018      144.0  ...   \n",
       "0a3f5080-a9f8-32b8-e044-0003ba298018      121.0  ...   \n",
       "0a3f509c-22f8-32b8-e044-0003ba298018       84.0  ...   \n",
       "0a3f508c-23f8-32b8-e044-0003ba298018      116.0  ...   \n",
       "\n",
       "                                      supplementaryHeating_3.0  \\\n",
       "id                                                               \n",
       "0a3f5087-eaf8-32b8-e044-0003ba298018                         0   \n",
       "0a3f5086-c3f8-32b8-e044-0003ba298018                         0   \n",
       "0a3f5081-bcfc-32b8-e044-0003ba298018                         0   \n",
       "0a3f507c-1ffc-32b8-e044-0003ba298018                         0   \n",
       "0a3f5094-03fc-32b8-e044-0003ba298018                         0   \n",
       "...                                                        ...   \n",
       "0a3f507f-92f8-32b8-e044-0003ba298018                         0   \n",
       "0a3f5081-d2f8-32b8-e044-0003ba298018                         0   \n",
       "0a3f5080-a9f8-32b8-e044-0003ba298018                         0   \n",
       "0a3f509c-22f8-32b8-e044-0003ba298018                         0   \n",
       "0a3f508c-23f8-32b8-e044-0003ba298018                         0   \n",
       "\n",
       "                                      supplementaryHeating_4.0  \\\n",
       "id                                                               \n",
       "0a3f5087-eaf8-32b8-e044-0003ba298018                         0   \n",
       "0a3f5086-c3f8-32b8-e044-0003ba298018                         0   \n",
       "0a3f5081-bcfc-32b8-e044-0003ba298018                         0   \n",
       "0a3f507c-1ffc-32b8-e044-0003ba298018                         0   \n",
       "0a3f5094-03fc-32b8-e044-0003ba298018                         0   \n",
       "...                                                        ...   \n",
       "0a3f507f-92f8-32b8-e044-0003ba298018                         0   \n",
       "0a3f5081-d2f8-32b8-e044-0003ba298018                         0   \n",
       "0a3f5080-a9f8-32b8-e044-0003ba298018                         0   \n",
       "0a3f509c-22f8-32b8-e044-0003ba298018                         0   \n",
       "0a3f508c-23f8-32b8-e044-0003ba298018                         0   \n",
       "\n",
       "                                      supplementaryHeating_5.0  \\\n",
       "id                                                               \n",
       "0a3f5087-eaf8-32b8-e044-0003ba298018                         0   \n",
       "0a3f5086-c3f8-32b8-e044-0003ba298018                         0   \n",
       "0a3f5081-bcfc-32b8-e044-0003ba298018                         0   \n",
       "0a3f507c-1ffc-32b8-e044-0003ba298018                         0   \n",
       "0a3f5094-03fc-32b8-e044-0003ba298018                         0   \n",
       "...                                                        ...   \n",
       "0a3f507f-92f8-32b8-e044-0003ba298018                         0   \n",
       "0a3f5081-d2f8-32b8-e044-0003ba298018                         0   \n",
       "0a3f5080-a9f8-32b8-e044-0003ba298018                         0   \n",
       "0a3f509c-22f8-32b8-e044-0003ba298018                         0   \n",
       "0a3f508c-23f8-32b8-e044-0003ba298018                         0   \n",
       "\n",
       "                                      supplementaryHeating_7.0  \\\n",
       "id                                                               \n",
       "0a3f5087-eaf8-32b8-e044-0003ba298018                         0   \n",
       "0a3f5086-c3f8-32b8-e044-0003ba298018                         0   \n",
       "0a3f5081-bcfc-32b8-e044-0003ba298018                         0   \n",
       "0a3f507c-1ffc-32b8-e044-0003ba298018                         0   \n",
       "0a3f5094-03fc-32b8-e044-0003ba298018                         0   \n",
       "...                                                        ...   \n",
       "0a3f507f-92f8-32b8-e044-0003ba298018                         0   \n",
       "0a3f5081-d2f8-32b8-e044-0003ba298018                         0   \n",
       "0a3f5080-a9f8-32b8-e044-0003ba298018                         0   \n",
       "0a3f509c-22f8-32b8-e044-0003ba298018                         0   \n",
       "0a3f508c-23f8-32b8-e044-0003ba298018                         0   \n",
       "\n",
       "                                      supplementaryHeating_80.0  \\\n",
       "id                                                                \n",
       "0a3f5087-eaf8-32b8-e044-0003ba298018                          0   \n",
       "0a3f5086-c3f8-32b8-e044-0003ba298018                          0   \n",
       "0a3f5081-bcfc-32b8-e044-0003ba298018                          0   \n",
       "0a3f507c-1ffc-32b8-e044-0003ba298018                          0   \n",
       "0a3f5094-03fc-32b8-e044-0003ba298018                          0   \n",
       "...                                                         ...   \n",
       "0a3f507f-92f8-32b8-e044-0003ba298018                          0   \n",
       "0a3f5081-d2f8-32b8-e044-0003ba298018                          0   \n",
       "0a3f5080-a9f8-32b8-e044-0003ba298018                          0   \n",
       "0a3f509c-22f8-32b8-e044-0003ba298018                          0   \n",
       "0a3f508c-23f8-32b8-e044-0003ba298018                          0   \n",
       "\n",
       "                                      supplementaryHeating_90.0  \\\n",
       "id                                                                \n",
       "0a3f5087-eaf8-32b8-e044-0003ba298018                          0   \n",
       "0a3f5086-c3f8-32b8-e044-0003ba298018                          0   \n",
       "0a3f5081-bcfc-32b8-e044-0003ba298018                          0   \n",
       "0a3f507c-1ffc-32b8-e044-0003ba298018                          0   \n",
       "0a3f5094-03fc-32b8-e044-0003ba298018                          0   \n",
       "...                                                         ...   \n",
       "0a3f507f-92f8-32b8-e044-0003ba298018                          0   \n",
       "0a3f5081-d2f8-32b8-e044-0003ba298018                          0   \n",
       "0a3f5080-a9f8-32b8-e044-0003ba298018                          0   \n",
       "0a3f509c-22f8-32b8-e044-0003ba298018                          0   \n",
       "0a3f508c-23f8-32b8-e044-0003ba298018                          0   \n",
       "\n",
       "                                      preservation_3.0  preservation_9.0  \\\n",
       "id                                                                         \n",
       "0a3f5087-eaf8-32b8-e044-0003ba298018                 0                 0   \n",
       "0a3f5086-c3f8-32b8-e044-0003ba298018                 0                 0   \n",
       "0a3f5081-bcfc-32b8-e044-0003ba298018                 0                 0   \n",
       "0a3f507c-1ffc-32b8-e044-0003ba298018                 0                 0   \n",
       "0a3f5094-03fc-32b8-e044-0003ba298018                 0                 0   \n",
       "...                                                ...               ...   \n",
       "0a3f507f-92f8-32b8-e044-0003ba298018                 0                 0   \n",
       "0a3f5081-d2f8-32b8-e044-0003ba298018                 0                 0   \n",
       "0a3f5080-a9f8-32b8-e044-0003ba298018                 0                 0   \n",
       "0a3f509c-22f8-32b8-e044-0003ba298018                 0                 0   \n",
       "0a3f508c-23f8-32b8-e044-0003ba298018                 0                 0   \n",
       "\n",
       "                                      stormCouncilsFloodSelfRisk_0.0  \\\n",
       "id                                                                     \n",
       "0a3f5087-eaf8-32b8-e044-0003ba298018                               0   \n",
       "0a3f5086-c3f8-32b8-e044-0003ba298018                               0   \n",
       "0a3f5081-bcfc-32b8-e044-0003ba298018                               0   \n",
       "0a3f507c-1ffc-32b8-e044-0003ba298018                               0   \n",
       "0a3f5094-03fc-32b8-e044-0003ba298018                               0   \n",
       "...                                                              ...   \n",
       "0a3f507f-92f8-32b8-e044-0003ba298018                               0   \n",
       "0a3f5081-d2f8-32b8-e044-0003ba298018                               0   \n",
       "0a3f5080-a9f8-32b8-e044-0003ba298018                               0   \n",
       "0a3f509c-22f8-32b8-e044-0003ba298018                               0   \n",
       "0a3f508c-23f8-32b8-e044-0003ba298018                               0   \n",
       "\n",
       "                                      totalAddressValue  \n",
       "id                                                       \n",
       "0a3f5087-eaf8-32b8-e044-0003ba298018          1862000.0  \n",
       "0a3f5086-c3f8-32b8-e044-0003ba298018          2158000.0  \n",
       "0a3f5081-bcfc-32b8-e044-0003ba298018          4321000.0  \n",
       "0a3f507c-1ffc-32b8-e044-0003ba298018         12165000.0  \n",
       "0a3f5094-03fc-32b8-e044-0003ba298018          1162000.0  \n",
       "...                                                 ...  \n",
       "0a3f507f-92f8-32b8-e044-0003ba298018          3634000.0  \n",
       "0a3f5081-d2f8-32b8-e044-0003ba298018          4535000.0  \n",
       "0a3f5080-a9f8-32b8-e044-0003ba298018          2805000.0  \n",
       "0a3f509c-22f8-32b8-e044-0003ba298018          6180000.0  \n",
       "0a3f508c-23f8-32b8-e044-0003ba298018           794000.0  \n",
       "\n",
       "[515525 rows x 116 columns]"
      ]
     },
     "execution_count": 10,
     "metadata": {},
     "output_type": "execute_result"
    }
   ],
   "source": [
    "ds_reduced_and_dropped = ds_without_nans\n",
    "for col in columns_with_few_observations:\n",
    "    ds_reduced_and_dropped = ds_reduced_and_dropped.loc[ds_reduced_and_dropped[col] == 0]\n",
    "\n",
    "ds_reduced_and_dropped.drop(columns=columns_with_few_observations, inplace=True)\n",
    "ds_reduced_and_dropped"
   ]
  },
  {
   "cell_type": "code",
   "execution_count": 11,
   "metadata": {},
   "outputs": [],
   "source": [
    "ds_reduced_and_dropped.to_csv('data/DS_reduced_and_dropped.csv')"
   ]
  },
  {
   "cell_type": "markdown",
   "metadata": {},
   "source": [
    "# Analysis"
   ]
  },
  {
   "cell_type": "code",
   "execution_count": 49,
   "metadata": {},
   "outputs": [],
   "source": [
    "import pandas as pd\n",
    "import numpy as np\n",
    "import matplotlib.pyplot as plt\n",
    "from sklearn.preprocessing import StandardScaler, MinMaxScaler"
   ]
  },
  {
   "cell_type": "code",
   "execution_count": 50,
   "metadata": {},
   "outputs": [],
   "source": [
    "analysis_ds = pd.read_csv('data/DS_totalAddressValue_no_nans.csv', index_col='id')"
   ]
  },
  {
   "cell_type": "code",
   "execution_count": 51,
   "metadata": {},
   "outputs": [],
   "source": [
    "# Prediction variable\n",
    "prediction_property = 'totalAddressValue'\n",
    "total_address_values = analysis_ds[prediction_property]\n",
    "\n",
    "# Feature data\n",
    "feature_names = analysis_ds.columns[analysis_ds.columns != prediction_property]\n",
    "feature_data = analysis_ds[feature_names]\n"
   ]
  },
  {
   "cell_type": "code",
   "execution_count": 31,
   "metadata": {},
   "outputs": [],
   "source": [
    "scaler = StandardScaler()\n",
    "normalized_feature_data = scaler.fit_transform(feature_data)"
   ]
  },
  {
   "cell_type": "code",
   "execution_count": 32,
   "metadata": {},
   "outputs": [
    {
     "data": {
      "text/plain": [
       "515525"
      ]
     },
     "execution_count": 32,
     "metadata": {},
     "output_type": "execute_result"
    }
   ],
   "source": [
    "len(total_address_values)"
   ]
  },
  {
   "cell_type": "markdown",
   "metadata": {},
   "source": [
    "## PCA"
   ]
  },
  {
   "cell_type": "code",
   "execution_count": 33,
   "metadata": {},
   "outputs": [],
   "source": [
    "from sklearn.decomposition import PCA"
   ]
  },
  {
   "cell_type": "code",
   "execution_count": 34,
   "metadata": {},
   "outputs": [],
   "source": [
    "n_components = 10 # len(feature_names)\n",
    "pca = PCA(n_components=n_components)\n",
    "transformed_ds = pca.fit_transform(normalized_feature_data)\n",
    "components = pca.components_"
   ]
  },
  {
   "cell_type": "code",
   "execution_count": 35,
   "metadata": {},
   "outputs": [
    {
     "name": "stdout",
     "output_type": "stream",
     "text": [
      "Component variances: [3.60636795 3.30977971 2.64589522 2.34466076 2.19832892 2.06478889\n",
      " 1.83341513 1.66341422 1.53368226 1.47874434]\n",
      "Component percentages/ratios: [0.03135966 0.02878064 0.02300774 0.02038831 0.01911587 0.01795465\n",
      " 0.01594271 0.01446444 0.01333634 0.01285862]\n"
     ]
    },
    {
     "data": {
      "image/png": "[encoded data removed]",
      "text/plain": [
       "<Figure size 640x480 with 1 Axes>"
      ]
     },
     "metadata": {},
     "output_type": "display_data"
    }
   ],
   "source": [
    "n_plotting_components = n_components\n",
    "def addlabels(x,y):\n",
    "    for i in range(len(x)):\n",
    "        plt.text(i+1, y[i], f\"{y[i]:.2f} %\", ha = 'center')\n",
    "\t\t\n",
    "variances = pca.explained_variance_\n",
    "variance_ratios = pca.explained_variance_ratio_\n",
    "print(\"Component variances:\",variances[:n_plotting_components])\n",
    "print(\"Component percentages/ratios:\",variance_ratios[:n_plotting_components])\n",
    "\n",
    "component_percentage = variance_ratios[:n_plotting_components]*100\n",
    "plt.bar(range(1,n_plotting_components +1), component_percentage)\n",
    "addlabels(range(1,n_plotting_components +1), component_percentage)\n",
    "plt.title(\"Details explained per component\")\n",
    "plt.xlabel('Principle components')\n",
    "plt.ylabel('Explained variance')\n",
    "plt.show()"
   ]
  },
  {
   "cell_type": "markdown",
   "metadata": {},
   "source": [
    "# Regression analysis"
   ]
  },
  {
   "cell_type": "code",
   "execution_count": 36,
   "metadata": {},
   "outputs": [],
   "source": [
    "from sklearn.linear_model import LinearRegression"
   ]
  },
  {
   "cell_type": "code",
   "execution_count": 37,
   "metadata": {},
   "outputs": [],
   "source": [
    "scaler = MinMaxScaler()\n",
    "minmax_feature_data = scaler.fit_transform(feature_data)"
   ]
  },
  {
   "cell_type": "code",
   "execution_count": 38,
   "metadata": {},
   "outputs": [],
   "source": [
    "LR_model = LinearRegression().fit(\n",
    "    minmax_feature_data,\n",
    "    total_address_values\n",
    ")"
   ]
  },
  {
   "cell_type": "code",
   "execution_count": 39,
   "metadata": {},
   "outputs": [
    {
     "data": {
      "text/plain": [
       "0.32537051626801516"
      ]
     },
     "execution_count": 39,
     "metadata": {},
     "output_type": "execute_result"
    }
   ],
   "source": [
    "# Coefficient of determination\n",
    "LR_model.score(minmax_feature_data, total_address_values)\n",
    "# Not looking great"
   ]
  },
  {
   "cell_type": "code",
   "execution_count": 40,
   "metadata": {},
   "outputs": [
    {
     "data": {
      "image/png": "[encoded data removed]",
      "text/plain": [
       "<Figure size 640x480 with 1 Axes>"
      ]
     },
     "metadata": {},
     "output_type": "display_data"
    }
   ],
   "source": [
    "LR_coefficients = LR_model.coef_\n",
    "feature_coef_map = sorted(\n",
    "    [{'feature':feature,'coef':coef} for feature, coef in zip(feature_names, LR_coefficients)],\n",
    "    key=lambda x: x['coef'],\n",
    "    reverse=True\n",
    ")\n",
    "sorted_features = [x['feature'] for x in feature_coef_map]\n",
    "sorted_coefs = [x['coef'] for x in feature_coef_map]\n",
    "\n",
    "n_plotting_features = 15\n",
    "plt.bar(\n",
    "    sorted_features[:n_plotting_features],\n",
    "    sorted_coefs[:n_plotting_features]\n",
    ")\n",
    "plt.xticks(rotation=90)\n",
    "plt.show()"
   ]
  },
  {
   "cell_type": "code",
   "execution_count": 41,
   "metadata": {},
   "outputs": [
    {
     "name": "stdout",
     "output_type": "stream",
     "text": [
      "{'feature': 'totalResidenceArea', 'coef': 165225581.98785836}\n",
      "{'feature': 'builtArea', 'coef': 89185571.82070164}\n",
      "{'feature': 'totalIndustrialArea', 'coef': 50058890.4127393}\n",
      "{'feature': 'areaOfExternalInsulation', 'coef': 12865772.835366817}\n",
      "{'feature': 'numberOfFloors', 'coef': 10011922.733503483}\n",
      "{'feature': 'preservation_9.0', 'coef': 8839680.0}\n",
      "{'feature': 'areaOfCoveredArea', 'coef': 5899651.388245622}\n",
      "{'feature': 'areaOfBuiltInGarage', 'coef': 5263308.298091155}\n",
      "{'feature': 'constructionYear', 'coef': 4114617.184805017}\n",
      "{'feature': 'deviantFloors_10.0', 'coef': 3891712.0}\n",
      "{'feature': 'stormCouncilsFloodSelfRisk_0.0', 'coef': 2649088.0}\n",
      "{'feature': 'supplementaryHeating_5.0', 'coef': 2094208.0}\n",
      "{'feature': 'areaOfBuiltInCarport', 'coef': 1933602.5131818284}\n",
      "{'feature': 'deviantFloors_11.0', 'coef': 1125184.0}\n",
      "{'feature': 'heatingMedium_7.0', 'coef': 995648.0}\n",
      "{'feature': 'waterSupplyType_1.0', 'coef': 818728.0}\n",
      "{'feature': 'supplementOuterWallMaterialType_5.0', 'coef': 591104.0}\n",
      "{'feature': 'supplementRoofMaterialType_12.0', 'coef': 584532.0}\n",
      "{'feature': 'supplementOuterWallMaterialType_90.0', 'coef': 582388.0}\n",
      "{'feature': 'supplementaryHeating_90.0', 'coef': 561920.0}\n",
      "{'feature': 'supplementOuterWallMaterialType_1.0', 'coef': 417960.0}\n",
      "{'feature': 'supplementOuterWallMaterialType_2.0', 'coef': 395200.0}\n",
      "{'feature': 'supplementOuterWallMaterialType_80.0', 'coef': 380720.0}\n",
      "{'feature': 'supplementaryHeating_4.0', 'coef': 283008.0}\n",
      "{'feature': 'supplementRoofMaterialType_1.0', 'coef': 280704.0}\n",
      "{'feature': 'supplementRoofMaterialType_2.0', 'coef': 263568.0}\n",
      "{'feature': 'supplementRoofMaterialType_90.0', 'coef': 236388.0}\n",
      "{'feature': 'supplementOuterWallMaterialType_12.0', 'coef': 215512.0}\n",
      "{'feature': 'deviantFloors_0.0', 'coef': 196496.0}\n",
      "{'feature': 'supplementaryHeating_2.0', 'coef': 126976.0}\n",
      "{'feature': 'waterSupplyType_9.0', 'coef': 104832.0}\n",
      "{'feature': 'drainageType_29.0', 'coef': 60096.0}\n",
      "{'feature': 'supplementaryHeating_80.0', 'coef': 42368.0}\n",
      "{'feature': 'supplementRoofMaterialType_5.0', 'coef': 40624.0}\n",
      "{'feature': 'supplementOuterWallMaterialType_8.0', 'coef': 18656.0}\n",
      "{'feature': 'supplementaryHeating_0.0', 'coef': -14784.0}\n",
      "{'feature': 'waterSupplyType_2.0', 'coef': -29264.0}\n",
      "{'feature': 'drainageType_9.0', 'coef': -80576.0}\n",
      "{'feature': 'supplementaryHeating_1.0', 'coef': -84096.0}\n",
      "{'feature': 'supplementaryHeating_7.0', 'coef': -94376.0}\n",
      "{'feature': 'supplementaryHeating_3.0', 'coef': -110224.0}\n",
      "{'feature': 'supplementRoofMaterialType_6.0', 'coef': -169776.0}\n",
      "{'feature': 'supplementOuterWallMaterialType_10.0', 'coef': -199968.0}\n",
      "{'feature': 'supplementRoofMaterialType_10.0', 'coef': -221712.0}\n",
      "{'feature': 'supplementRoofMaterialType_3.0', 'coef': -266936.0}\n",
      "{'feature': 'drainageType_10.0', 'coef': -423456.0}\n",
      "{'feature': 'supplementRoofMaterialType_4.0', 'coef': -435760.0}\n",
      "{'feature': 'drainageType_701.0', 'coef': -661008.0}\n",
      "{'feature': 'heatingMedium_1.0', 'coef': -735168.0}\n",
      "{'feature': 'heatingMedium_9.0', 'coef': -739552.0}\n",
      "{'feature': 'areaOfBuiltInShed', 'coef': -799191.4220244796}\n",
      "{'feature': 'supplementRoofMaterialType_11.0', 'coef': -893872.0}\n",
      "{'feature': 'heatingMedium_3.0', 'coef': -1045760.0}\n",
      "{'feature': 'heatingMedium_6.0', 'coef': -1058496.0}\n",
      "{'feature': 'asbestosHoldingMaterialType_2.0', 'coef': -1233856.0}\n",
      "{'feature': 'preservation_3.0', 'coef': -1335040.0}\n",
      "{'feature': 'heatingInstallation_1.0', 'coef': -1345488.0}\n",
      "{'feature': 'heatingInstallation_5.0', 'coef': -1352192.0}\n",
      "{'feature': 'heatingMedium_4.0', 'coef': -1370624.0}\n",
      "{'feature': 'heatingInstallation_2.0', 'coef': -1544736.0}\n",
      "{'feature': 'heatingInstallation_3.0', 'coef': -1623168.0}\n",
      "{'feature': 'heatingInstallation_7.0', 'coef': -1834240.0}\n",
      "{'feature': 'heatingInstallation_6.0', 'coef': -1951872.0}\n",
      "{'feature': 'totalAreaOfClosedCoveringsOnTheBuilding', 'coef': -1974405.1451781616}\n",
      "{'feature': 'heatingInstallation_9.0', 'coef': -2212352.0}\n",
      "{'feature': 'postal_nr', 'coef': -6471805.36151053}\n",
      "{'feature': 'areaOfBuiltInConservatoryOrSimilar', 'coef': -6991268.777804881}\n",
      "{'feature': 'reconstructionOrExtensionYear', 'coef': -9520889.219168056}\n",
      "{'feature': 'otherArea', 'coef': -11306950.020929283}\n",
      "{'feature': 'accessArea', 'coef': -25630567.252963845}\n",
      "{'feature': 'shelterSpaces', 'coef': -31253558.68326089}\n",
      "{'feature': 'totalBuildingArea', 'coef': -182283651.26815057}\n",
      "{'feature': 'outerWallMaterialType_90.0', 'coef': -7.819324047380216e+17}\n",
      "{'feature': 'outerWallMaterialType_80.0', 'coef': -7.819324047380321e+17}\n",
      "{'feature': 'outerWallMaterialType_5.0', 'coef': -7.819324047381414e+17}\n",
      "{'feature': 'outerWallMaterialType_12.0', 'coef': -7.81932404738422e+17}\n",
      "{'feature': 'outerWallMaterialType_11.0', 'coef': -7.819324047384442e+17}\n",
      "{'feature': 'outerWallMaterialType_10.0', 'coef': -7.819324047384704e+17}\n",
      "{'feature': 'outerWallMaterialType_1.0', 'coef': -7.819324047384902e+17}\n",
      "{'feature': 'outerWallMaterialType_2.0', 'coef': -7.819324047385432e+17}\n",
      "{'feature': 'outerWallMaterialType_8.0', 'coef': -7.819324047386252e+17}\n",
      "{'feature': 'outerWallMaterialType_3.0', 'coef': -7.819324047387533e+17}\n",
      "{'feature': 'outerWallMaterialType_6.0', 'coef': -7.81932404738827e+17}\n",
      "{'feature': 'outerWallMaterialType_4.0', 'coef': -7.81932404739233e+17}\n",
      "{'feature': 'buildingUsageType_131.0', 'coef': -1.4203875076439974e+18}\n",
      "{'feature': 'buildingUsageType_585.0', 'coef': -1.420387507645192e+18}\n",
      "{'feature': 'buildingUsageType_132.0', 'coef': -1.420387507645644e+18}\n",
      "{'feature': 'buildingUsageType_120.0', 'coef': -1.4203875076456617e+18}\n",
      "{'feature': 'buildingUsageType_510.0', 'coef': -1.420387507645688e+18}\n",
      "{'feature': 'buildingUsageType_217.0', 'coef': -1.4203875076459077e+18}\n",
      "{'feature': 'buildingUsageType_910.0', 'coef': -1.420387507646003e+18}\n",
      "{'feature': 'buildingUsageType_219.0', 'coef': -1.4203875076460204e+18}\n",
      "{'feature': 'buildingUsageType_920.0', 'coef': -1.4203875076461207e+18}\n",
      "{'feature': 'buildingUsageType_950.0', 'coef': -1.4203875076461507e+18}\n",
      "{'feature': 'buildingUsageType_930.0', 'coef': -1.420387507646284e+18}\n",
      "{'feature': 'buildingUsageType_940.0', 'coef': -1.4203875076462863e+18}\n",
      "{'feature': 'buildingUsageType_960.0', 'coef': -1.42038750764631e+18}\n",
      "{'feature': 'buildingUsageType_323.0', 'coef': -1.4203875076463462e+18}\n",
      "{'feature': 'buildingUsageType_970.0', 'coef': -1.4203875076464297e+18}\n",
      "{'feature': 'buildingUsageType_130.0', 'coef': -1.420387507646625e+18}\n",
      "{'feature': 'buildingUsageType_223.0', 'coef': -1.4203875076466865e+18}\n",
      "{'feature': 'buildingUsageType_999.0', 'coef': -1.420387507646693e+18}\n",
      "{'feature': 'buildingUsageType_140.0', 'coef': -1.420387507647286e+18}\n",
      "{'feature': 'roofMaterialType_20.0', 'coef': -1.81031016427926e+18}\n",
      "{'feature': 'roofMaterialType_2.0', 'coef': -1.8103101642800927e+18}\n",
      "{'feature': 'roofMaterialType_5.0', 'coef': -1.81031016428032e+18}\n",
      "{'feature': 'roofMaterialType_1.0', 'coef': -1.8103101642807698e+18}\n",
      "{'feature': 'roofMaterialType_7.0', 'coef': -1.8103101642809073e+18}\n",
      "{'feature': 'roofMaterialType_90.0', 'coef': -1.8103101642813279e+18}\n",
      "{'feature': 'roofMaterialType_12.0', 'coef': -1.8103101642816077e+18}\n",
      "{'feature': 'roofMaterialType_3.0', 'coef': -1.810310164281818e+18}\n",
      "{'feature': 'roofMaterialType_11.0', 'coef': -1.8103101642818207e+18}\n",
      "{'feature': 'roofMaterialType_10.0', 'coef': -1.810310164281861e+18}\n",
      "{'feature': 'roofMaterialType_4.0', 'coef': -1.810310164281948e+18}\n",
      "{'feature': 'roofMaterialType_6.0', 'coef': -1.8103101642819901e+18}\n"
     ]
    }
   ],
   "source": [
    "for x in feature_coef_map: print(x)"
   ]
  },
  {
   "cell_type": "code",
   "execution_count": 42,
   "metadata": {},
   "outputs": [
    {
     "data": {
      "text/html": [
       "<div>\n",
       "<style scoped>\n",
       "    .dataframe tbody tr th:only-of-type {\n",
       "        vertical-align: middle;\n",
       "    }\n",
       "\n",
       "    .dataframe tbody tr th {\n",
       "        vertical-align: top;\n",
       "    }\n",
       "\n",
       "    .dataframe thead th {\n",
       "        text-align: right;\n",
       "    }\n",
       "</style>\n",
       "<table border=\"1\" class=\"dataframe\">\n",
       "  <thead>\n",
       "    <tr style=\"text-align: right;\">\n",
       "      <th></th>\n",
       "      <th>actual</th>\n",
       "      <th>prediction</th>\n",
       "    </tr>\n",
       "    <tr>\n",
       "      <th>id</th>\n",
       "      <th></th>\n",
       "      <th></th>\n",
       "    </tr>\n",
       "  </thead>\n",
       "  <tbody>\n",
       "    <tr>\n",
       "      <th>0a3f5087-eaf8-32b8-e044-0003ba298018</th>\n",
       "      <td>1862000.0</td>\n",
       "      <td>4698624.0</td>\n",
       "    </tr>\n",
       "    <tr>\n",
       "      <th>0a3f5086-c3f8-32b8-e044-0003ba298018</th>\n",
       "      <td>2158000.0</td>\n",
       "      <td>2238464.0</td>\n",
       "    </tr>\n",
       "    <tr>\n",
       "      <th>0a3f5081-bcfc-32b8-e044-0003ba298018</th>\n",
       "      <td>4321000.0</td>\n",
       "      <td>6510080.0</td>\n",
       "    </tr>\n",
       "    <tr>\n",
       "      <th>0a3f507c-1ffc-32b8-e044-0003ba298018</th>\n",
       "      <td>12165000.0</td>\n",
       "      <td>7874560.0</td>\n",
       "    </tr>\n",
       "    <tr>\n",
       "      <th>0a3f5094-03fc-32b8-e044-0003ba298018</th>\n",
       "      <td>1162000.0</td>\n",
       "      <td>1065472.0</td>\n",
       "    </tr>\n",
       "    <tr>\n",
       "      <th>...</th>\n",
       "      <td>...</td>\n",
       "      <td>...</td>\n",
       "    </tr>\n",
       "    <tr>\n",
       "      <th>0a3f507f-92f8-32b8-e044-0003ba298018</th>\n",
       "      <td>3634000.0</td>\n",
       "      <td>5508096.0</td>\n",
       "    </tr>\n",
       "    <tr>\n",
       "      <th>0a3f5081-d2f8-32b8-e044-0003ba298018</th>\n",
       "      <td>4535000.0</td>\n",
       "      <td>4130816.0</td>\n",
       "    </tr>\n",
       "    <tr>\n",
       "      <th>0a3f5080-a9f8-32b8-e044-0003ba298018</th>\n",
       "      <td>2805000.0</td>\n",
       "      <td>5812736.0</td>\n",
       "    </tr>\n",
       "    <tr>\n",
       "      <th>0a3f509c-22f8-32b8-e044-0003ba298018</th>\n",
       "      <td>6180000.0</td>\n",
       "      <td>3244544.0</td>\n",
       "    </tr>\n",
       "    <tr>\n",
       "      <th>0a3f508c-23f8-32b8-e044-0003ba298018</th>\n",
       "      <td>794000.0</td>\n",
       "      <td>1229312.0</td>\n",
       "    </tr>\n",
       "  </tbody>\n",
       "</table>\n",
       "<p>515525 rows × 2 columns</p>\n",
       "</div>"
      ],
      "text/plain": [
       "                                          actual  prediction\n",
       "id                                                          \n",
       "0a3f5087-eaf8-32b8-e044-0003ba298018   1862000.0   4698624.0\n",
       "0a3f5086-c3f8-32b8-e044-0003ba298018   2158000.0   2238464.0\n",
       "0a3f5081-bcfc-32b8-e044-0003ba298018   4321000.0   6510080.0\n",
       "0a3f507c-1ffc-32b8-e044-0003ba298018  12165000.0   7874560.0\n",
       "0a3f5094-03fc-32b8-e044-0003ba298018   1162000.0   1065472.0\n",
       "...                                          ...         ...\n",
       "0a3f507f-92f8-32b8-e044-0003ba298018   3634000.0   5508096.0\n",
       "0a3f5081-d2f8-32b8-e044-0003ba298018   4535000.0   4130816.0\n",
       "0a3f5080-a9f8-32b8-e044-0003ba298018   2805000.0   5812736.0\n",
       "0a3f509c-22f8-32b8-e044-0003ba298018   6180000.0   3244544.0\n",
       "0a3f508c-23f8-32b8-e044-0003ba298018    794000.0   1229312.0\n",
       "\n",
       "[515525 rows x 2 columns]"
      ]
     },
     "execution_count": 42,
     "metadata": {},
     "output_type": "execute_result"
    }
   ],
   "source": [
    "LR_predictions = LR_model.predict(minmax_feature_data)\n",
    "pd.DataFrame({'actual': total_address_values, 'prediction':LR_predictions})"
   ]
  },
  {
   "cell_type": "markdown",
   "metadata": {},
   "source": [
    "## Poly regression\n",
    "As the coefficient of determination was so low for the LR"
   ]
  },
  {
   "cell_type": "code",
   "execution_count": 12,
   "metadata": {},
   "outputs": [],
   "source": [
    "from sklearn.preprocessing import PolynomialFeatures"
   ]
  },
  {
   "cell_type": "code",
   "execution_count": 10,
   "metadata": {},
   "outputs": [],
   "source": [
    "with open('data/models/PolyLR_model.sav','rb') as f:\n",
    "    PLR_model = pickle.load(f)"
   ]
  },
  {
   "cell_type": "code",
   "execution_count": 14,
   "metadata": {},
   "outputs": [
    {
     "ename": "MemoryError",
     "evalue": "Unable to allocate 26.1 GiB for an array with shape (515525, 6785) and data type float64",
     "output_type": "error",
     "traceback": [
      "\u001b[0;31m---------------------------------------------------------------------------\u001b[0m",
      "\u001b[0;31mMemoryError\u001b[0m                               Traceback (most recent call last)",
      "\u001b[0;32m<ipython-input-14-390f1ed334af>\u001b[0m in \u001b[0;36m<module>\u001b[0;34m\u001b[0m\n\u001b[1;32m      1\u001b[0m \u001b[0mpoly_features\u001b[0m \u001b[0;34m=\u001b[0m \u001b[0mPolynomialFeatures\u001b[0m\u001b[0;34m(\u001b[0m\u001b[0mdegree\u001b[0m\u001b[0;34m=\u001b[0m\u001b[0;36m2\u001b[0m\u001b[0;34m,\u001b[0m \u001b[0minclude_bias\u001b[0m\u001b[0;34m=\u001b[0m\u001b[0;32mFalse\u001b[0m\u001b[0;34m)\u001b[0m\u001b[0;31m\\\u001b[0m\u001b[0;34m\u001b[0m\u001b[0;34m\u001b[0m\u001b[0m\n\u001b[0;32m----> 2\u001b[0;31m     \u001b[0;34m.\u001b[0m\u001b[0mfit_transform\u001b[0m\u001b[0;34m(\u001b[0m\u001b[0mfeature_data\u001b[0m\u001b[0;34m)\u001b[0m\u001b[0;34m\u001b[0m\u001b[0;34m\u001b[0m\u001b[0m\n\u001b[0m\u001b[1;32m      3\u001b[0m \u001b[0mPLR_predictions\u001b[0m \u001b[0;34m=\u001b[0m \u001b[0mPLR_model\u001b[0m\u001b[0;34m.\u001b[0m\u001b[0mpredict\u001b[0m\u001b[0;34m(\u001b[0m\u001b[0mpoly_features\u001b[0m\u001b[0;34m)\u001b[0m\u001b[0;34m\u001b[0m\u001b[0;34m\u001b[0m\u001b[0m\n\u001b[1;32m      4\u001b[0m \u001b[0mpd\u001b[0m\u001b[0;34m.\u001b[0m\u001b[0mDataFrame\u001b[0m\u001b[0;34m(\u001b[0m\u001b[0;34m{\u001b[0m\u001b[0;34m'actual'\u001b[0m\u001b[0;34m:\u001b[0m \u001b[0mtotal_address_values\u001b[0m\u001b[0;34m,\u001b[0m \u001b[0;34m'prediction'\u001b[0m\u001b[0;34m:\u001b[0m\u001b[0mPLR_predictions\u001b[0m\u001b[0;34m}\u001b[0m\u001b[0;34m)\u001b[0m\u001b[0;34m\u001b[0m\u001b[0;34m\u001b[0m\u001b[0m\n",
      "\u001b[0;32m~/courses/02807/02807-Project/02807/lib64/python3.6/site-packages/sklearn/base.py\u001b[0m in \u001b[0;36mfit_transform\u001b[0;34m(self, X, y, **fit_params)\u001b[0m\n\u001b[1;32m    697\u001b[0m         \u001b[0;32mif\u001b[0m \u001b[0my\u001b[0m \u001b[0;32mis\u001b[0m \u001b[0;32mNone\u001b[0m\u001b[0;34m:\u001b[0m\u001b[0;34m\u001b[0m\u001b[0;34m\u001b[0m\u001b[0m\n\u001b[1;32m    698\u001b[0m             \u001b[0;31m# fit method of arity 1 (unsupervised transformation)\u001b[0m\u001b[0;34m\u001b[0m\u001b[0;34m\u001b[0m\u001b[0;34m\u001b[0m\u001b[0m\n\u001b[0;32m--> 699\u001b[0;31m             \u001b[0;32mreturn\u001b[0m \u001b[0mself\u001b[0m\u001b[0;34m.\u001b[0m\u001b[0mfit\u001b[0m\u001b[0;34m(\u001b[0m\u001b[0mX\u001b[0m\u001b[0;34m,\u001b[0m \u001b[0;34m**\u001b[0m\u001b[0mfit_params\u001b[0m\u001b[0;34m)\u001b[0m\u001b[0;34m.\u001b[0m\u001b[0mtransform\u001b[0m\u001b[0;34m(\u001b[0m\u001b[0mX\u001b[0m\u001b[0;34m)\u001b[0m\u001b[0;34m\u001b[0m\u001b[0;34m\u001b[0m\u001b[0m\n\u001b[0m\u001b[1;32m    700\u001b[0m         \u001b[0;32melse\u001b[0m\u001b[0;34m:\u001b[0m\u001b[0;34m\u001b[0m\u001b[0;34m\u001b[0m\u001b[0m\n\u001b[1;32m    701\u001b[0m             \u001b[0;31m# fit method of arity 2 (supervised transformation)\u001b[0m\u001b[0;34m\u001b[0m\u001b[0;34m\u001b[0m\u001b[0;34m\u001b[0m\u001b[0m\n",
      "\u001b[0;32m~/courses/02807/02807-Project/02807/lib64/python3.6/site-packages/sklearn/preprocessing/_data.py\u001b[0m in \u001b[0;36mtransform\u001b[0;34m(self, X)\u001b[0m\n\u001b[1;32m   1786\u001b[0m             \u001b[0;32melse\u001b[0m\u001b[0;34m:\u001b[0m\u001b[0;34m\u001b[0m\u001b[0;34m\u001b[0m\u001b[0m\n\u001b[1;32m   1787\u001b[0m                 XP = np.empty((n_samples, self.n_output_features_),\n\u001b[0;32m-> 1788\u001b[0;31m                               dtype=X.dtype, order=self.order)\n\u001b[0m\u001b[1;32m   1789\u001b[0m \u001b[0;34m\u001b[0m\u001b[0m\n\u001b[1;32m   1790\u001b[0m                 \u001b[0;31m# What follows is a faster implementation of:\u001b[0m\u001b[0;34m\u001b[0m\u001b[0;34m\u001b[0m\u001b[0;34m\u001b[0m\u001b[0m\n",
      "\u001b[0;31mMemoryError\u001b[0m: Unable to allocate 26.1 GiB for an array with shape (515525, 6785) and data type float64"
     ]
    }
   ],
   "source": [
    "poly_features = PolynomialFeatures(degree=2, include_bias=False)\\\n",
    "    .fit_transform(feature_data)\n",
    "PLR_predictions = PLR_model.predict(poly_features)\n",
    "pd.DataFrame({'actual': total_address_values, 'prediction':PLR_predictions})"
   ]
  },
  {
   "cell_type": "markdown",
   "metadata": {},
   "source": [
    "## DBSCAN\n",
    "Finding feature outliers and creating clusters"
   ]
  },
  {
   "cell_type": "code",
   "execution_count": 15,
   "metadata": {},
   "outputs": [],
   "source": [
    "# Determining hyperparameters\n",
    "# https://medium.com/@tarammullin/dbscan-parameter-estimation-ff8330e3a3bd\n",
    "distances = np.load('data/DBSCAN_HP_distances.npy')[:,1]"
   ]
  },
  {
   "cell_type": "code",
   "execution_count": 16,
   "metadata": {},
   "outputs": [
    {
     "data": {
      "text/plain": [
       "515525"
      ]
     },
     "execution_count": 16,
     "metadata": {},
     "output_type": "execute_result"
    }
   ],
   "source": [
    "len(distances)"
   ]
  },
  {
   "cell_type": "code",
   "execution_count": 17,
   "metadata": {},
   "outputs": [
    {
     "data": {
      "image/png": "[encoded data removed]",
      "text/plain": [
       "<Figure size 432x288 with 1 Axes>"
      ]
     },
     "metadata": {
      "needs_background": "light"
     },
     "output_type": "display_data"
    }
   ],
   "source": [
    "sorted_distances = np.sort(distances)\n",
    "plt.plot(sorted_distances[515_450:])\n",
    "plt.grid()\n",
    "plt.ylabel('Euclidean distance to NN')\n",
    "plt.show()"
   ]
  },
  {
   "cell_type": "code",
   "execution_count": 33,
   "metadata": {},
   "outputs": [],
   "source": [
    "eps = 3900"
   ]
  },
  {
   "cell_type": "code",
   "execution_count": 18,
   "metadata": {},
   "outputs": [
    {
     "data": {
      "text/html": [
       "<div>\n",
       "<style scoped>\n",
       "    .dataframe tbody tr th:only-of-type {\n",
       "        vertical-align: middle;\n",
       "    }\n",
       "\n",
       "    .dataframe tbody tr th {\n",
       "        vertical-align: top;\n",
       "    }\n",
       "\n",
       "    .dataframe thead th {\n",
       "        text-align: right;\n",
       "    }\n",
       "</style>\n",
       "<table border=\"1\" class=\"dataframe\">\n",
       "  <thead>\n",
       "    <tr style=\"text-align: right;\">\n",
       "      <th></th>\n",
       "      <th>0</th>\n",
       "    </tr>\n",
       "  </thead>\n",
       "  <tbody>\n",
       "    <tr>\n",
       "      <th>count</th>\n",
       "      <td>515525.000000</td>\n",
       "    </tr>\n",
       "    <tr>\n",
       "      <th>mean</th>\n",
       "      <td>19.238926</td>\n",
       "    </tr>\n",
       "    <tr>\n",
       "      <th>std</th>\n",
       "      <td>40.460221</td>\n",
       "    </tr>\n",
       "    <tr>\n",
       "      <th>min</th>\n",
       "      <td>0.000000</td>\n",
       "    </tr>\n",
       "    <tr>\n",
       "      <th>25%</th>\n",
       "      <td>8.246211</td>\n",
       "    </tr>\n",
       "    <tr>\n",
       "      <th>50%</th>\n",
       "      <td>13.266499</td>\n",
       "    </tr>\n",
       "    <tr>\n",
       "      <th>75%</th>\n",
       "      <td>21.656408</td>\n",
       "    </tr>\n",
       "    <tr>\n",
       "      <th>max</th>\n",
       "      <td>9694.228128</td>\n",
       "    </tr>\n",
       "  </tbody>\n",
       "</table>\n",
       "</div>"
      ],
      "text/plain": [
       "                   0\n",
       "count  515525.000000\n",
       "mean       19.238926\n",
       "std        40.460221\n",
       "min         0.000000\n",
       "25%         8.246211\n",
       "50%        13.266499\n",
       "75%        21.656408\n",
       "max      9694.228128"
      ]
     },
     "execution_count": 18,
     "metadata": {},
     "output_type": "execute_result"
    }
   ],
   "source": [
    "distance_stats = pd.DataFrame(distances).describe()\n",
    "distance_stats"
   ]
  },
  {
   "cell_type": "code",
   "execution_count": 23,
   "metadata": {},
   "outputs": [
    {
     "data": {
      "text/plain": [
       "328.8742676970977"
      ]
     },
     "execution_count": 23,
     "metadata": {},
     "output_type": "execute_result"
    }
   ],
   "source": [
    "eps = np.percentile(distances, 99.9)\n",
    "eps"
   ]
  },
  {
   "cell_type": "code",
   "execution_count": 21,
   "metadata": {},
   "outputs": [
    {
     "data": {
      "text/plain": [
       "516"
      ]
     },
     "execution_count": 21,
     "metadata": {},
     "output_type": "execute_result"
    }
   ],
   "source": [
    "len(distances[distances>eps]) # Outliers"
   ]
  },
  {
   "cell_type": "code",
   "execution_count": 40,
   "metadata": {},
   "outputs": [
    {
     "data": {
      "text/plain": [
       "230"
      ]
     },
     "execution_count": 40,
     "metadata": {},
     "output_type": "execute_result"
    }
   ],
   "source": [
    "min_samples = 2*len(feature_names)\n",
    "min_samples"
   ]
  },
  {
   "cell_type": "markdown",
   "metadata": {},
   "source": [
    "# Model"
   ]
  },
  {
   "cell_type": "markdown",
   "metadata": {},
   "source": [
    "First we discard the observations not in a cluster, as they are outliers and thus doesn't have enough data to accurately predict validity of\n",
    "\n",
    "```\n",
    "For each cluster:\n",
    "    For each address in cluster:\n",
    "        Get K nearest neighbors in the cluster\n",
    "        Normalize address evaluation -> z\n",
    "        Get probability p of observing z or more extreme\n",
    "\n",
    "        if p < threshold:\n",
    "            Flag address with unlikely evaluation\n",
    "```     \n",
    "\n",
    "-Handle outliers-"
   ]
  },
  {
   "cell_type": "code",
   "execution_count": 84,
   "metadata": {},
   "outputs": [],
   "source": [
    "import numpy as np\n",
    "import pandas as pd\n",
    "from sklearn.neighbors import NearestNeighbors\n",
    "from scipy.stats import norm\n",
    "from tqdm import tqdm\n",
    "tqdm.pandas()\n",
    "\n",
    "import warnings\n",
    "warnings.filterwarnings(\"ignore\")"
   ]
  },
  {
   "cell_type": "code",
   "execution_count": 45,
   "metadata": {},
   "outputs": [
    {
     "data": {
      "text/plain": [
       "array([0, 1, 0, ..., 1, 3, 0], dtype=int64)"
      ]
     },
     "execution_count": 45,
     "metadata": {},
     "output_type": "execute_result"
    }
   ],
   "source": [
    "clusterings = np.load('data\\clusterings\\DBSCAN_clusterings_lower_eps_fullDS.npy')\n",
    "clusterings"
   ]
  },
  {
   "cell_type": "code",
   "execution_count": 52,
   "metadata": {},
   "outputs": [
    {
     "name": "stdout",
     "output_type": "stream",
     "text": [
      "-1 28294\n",
      "0 174009\n",
      "1 91164\n",
      "2 97777\n",
      "3 83325\n",
      "4 49541\n",
      "5 1241\n",
      "6 766\n"
     ]
    }
   ],
   "source": [
    "for cluster_id in np.unique(clusterings):\n",
    "    print(cluster_id,len(analysis_ds.loc[clusterings==cluster_id]))"
   ]
  },
  {
   "cell_type": "code",
   "execution_count": 103,
   "metadata": {},
   "outputs": [
    {
     "name": "stderr",
     "output_type": "stream",
     "text": [
      "  0%|          | 14/83325 [00:00<1:05:21, 21.24it/s]"
     ]
    },
    {
     "name": "stdout",
     "output_type": "stream",
     "text": [
      "0.005368548064634826\n"
     ]
    },
    {
     "name": "stderr",
     "output_type": "stream",
     "text": [
      "  0%|          | 308/83325 [00:10<41:10, 33.60it/s] "
     ]
    },
    {
     "name": "stdout",
     "output_type": "stream",
     "text": [
      "0.003260797115218317\n"
     ]
    },
    {
     "name": "stderr",
     "output_type": "stream",
     "text": [
      "  0%|          | 320/83325 [00:10<41:41, 33.18it/s]"
     ]
    },
    {
     "name": "stdout",
     "output_type": "stream",
     "text": [
      "0.0007413054177997092\n"
     ]
    },
    {
     "name": "stderr",
     "output_type": "stream",
     "text": [
      "  0%|          | 364/83325 [00:11<39:13, 35.25it/s]"
     ]
    },
    {
     "name": "stdout",
     "output_type": "stream",
     "text": [
      "0.007745599190909558\n"
     ]
    },
    {
     "name": "stderr",
     "output_type": "stream",
     "text": [
      "  1%|          | 420/83325 [00:13<41:04, 33.64it/s]"
     ]
    },
    {
     "name": "stdout",
     "output_type": "stream",
     "text": [
      "0.0015952960920644355\n"
     ]
    },
    {
     "name": "stderr",
     "output_type": "stream",
     "text": [
      "  1%|          | 456/83325 [00:14<49:25, 27.94it/s]"
     ]
    },
    {
     "name": "stdout",
     "output_type": "stream",
     "text": [
      "7.638667809395372e-09\n"
     ]
    },
    {
     "name": "stderr",
     "output_type": "stream",
     "text": [
      "  1%|          | 534/83325 [00:16<39:57, 34.53it/s]"
     ]
    },
    {
     "name": "stdout",
     "output_type": "stream",
     "text": [
      "0.0006208732710093479\n"
     ]
    },
    {
     "name": "stderr",
     "output_type": "stream",
     "text": [
      "  1%|          | 574/83325 [00:18<39:50, 34.62it/s]"
     ]
    },
    {
     "name": "stdout",
     "output_type": "stream",
     "text": [
      "8.290501149910146e-05\n",
      "5.790892363410904e-07\n"
     ]
    },
    {
     "name": "stderr",
     "output_type": "stream",
     "text": [
      "  1%|          | 654/83325 [00:20<39:18, 35.05it/s]"
     ]
    },
    {
     "name": "stdout",
     "output_type": "stream",
     "text": [
      "9.648842886456066e-06\n"
     ]
    },
    {
     "name": "stderr",
     "output_type": "stream",
     "text": [
      "  1%|          | 674/83325 [00:20<40:05, 34.37it/s]"
     ]
    },
    {
     "name": "stdout",
     "output_type": "stream",
     "text": [
      "1.7807456675456024e-05\n"
     ]
    },
    {
     "name": "stderr",
     "output_type": "stream",
     "text": [
      "  1%|          | 754/83325 [00:23<40:10, 34.25it/s]"
     ]
    },
    {
     "name": "stdout",
     "output_type": "stream",
     "text": [
      "0.0012012703098778221\n"
     ]
    },
    {
     "name": "stderr",
     "output_type": "stream",
     "text": [
      "  1%|          | 790/83325 [00:24<44:29, 30.92it/s]"
     ]
    },
    {
     "name": "stdout",
     "output_type": "stream",
     "text": [
      "0.006751889643747511\n"
     ]
    },
    {
     "name": "stderr",
     "output_type": "stream",
     "text": [
      "  1%|          | 834/83325 [00:25<40:34, 33.88it/s]"
     ]
    },
    {
     "name": "stdout",
     "output_type": "stream",
     "text": [
      "0.0008841593205525244\n"
     ]
    },
    {
     "name": "stderr",
     "output_type": "stream",
     "text": [
      "  1%|          | 850/83325 [00:26<41:06, 33.44it/s]"
     ]
    },
    {
     "name": "stdout",
     "output_type": "stream",
     "text": [
      "0.004509057792604687\n"
     ]
    },
    {
     "name": "stderr",
     "output_type": "stream",
     "text": [
      "  1%|          | 886/83325 [00:27<40:26, 33.98it/s]"
     ]
    },
    {
     "name": "stdout",
     "output_type": "stream",
     "text": [
      "0.003459426259783016\n"
     ]
    },
    {
     "name": "stderr",
     "output_type": "stream",
     "text": [
      "  1%|          | 906/83325 [00:27<39:52, 34.45it/s]"
     ]
    },
    {
     "name": "stdout",
     "output_type": "stream",
     "text": [
      "0.0026458214831059923\n",
      "2.161940298184284e-05\n"
     ]
    },
    {
     "name": "stderr",
     "output_type": "stream",
     "text": [
      "  1%|          | 974/83325 [00:29<39:33, 34.70it/s]"
     ]
    },
    {
     "name": "stdout",
     "output_type": "stream",
     "text": [
      "0.005262261753684383\n"
     ]
    },
    {
     "name": "stderr",
     "output_type": "stream",
     "text": [
      "  1%|▏         | 1126/83325 [00:34<39:45, 34.46it/s]"
     ]
    },
    {
     "name": "stdout",
     "output_type": "stream",
     "text": [
      "0.00011252376808323916\n",
      "0.0004849694081476841\n"
     ]
    },
    {
     "name": "stderr",
     "output_type": "stream",
     "text": [
      "  1%|▏         | 1234/83325 [00:37<41:04, 33.31it/s]"
     ]
    },
    {
     "name": "stdout",
     "output_type": "stream",
     "text": [
      "0.0006703621028381068\n",
      "1.831928256679216e-05\n"
     ]
    },
    {
     "name": "stderr",
     "output_type": "stream",
     "text": [
      "  2%|▏         | 1258/83325 [00:38<38:45, 35.29it/s]"
     ]
    },
    {
     "name": "stdout",
     "output_type": "stream",
     "text": [
      "0.0009988048374346414\n"
     ]
    },
    {
     "name": "stderr",
     "output_type": "stream",
     "text": [
      "  2%|▏         | 1402/83325 [00:42<38:51, 35.13it/s]"
     ]
    },
    {
     "name": "stdout",
     "output_type": "stream",
     "text": [
      "0.0013177309581833274\n"
     ]
    },
    {
     "name": "stderr",
     "output_type": "stream",
     "text": [
      "  2%|▏         | 1438/83325 [00:43<40:30, 33.70it/s]"
     ]
    },
    {
     "name": "stdout",
     "output_type": "stream",
     "text": [
      "0.003911320325801104\n"
     ]
    },
    {
     "name": "stderr",
     "output_type": "stream",
     "text": [
      "  2%|▏         | 1478/83325 [00:44<40:53, 33.36it/s]"
     ]
    },
    {
     "name": "stdout",
     "output_type": "stream",
     "text": [
      "2.5995598413874887e-06\n"
     ]
    },
    {
     "name": "stderr",
     "output_type": "stream",
     "text": [
      "  2%|▏         | 1494/83325 [00:45<40:36, 33.59it/s]"
     ]
    },
    {
     "name": "stdout",
     "output_type": "stream",
     "text": [
      "0.005055186384377852\n"
     ]
    },
    {
     "name": "stderr",
     "output_type": "stream",
     "text": [
      "  2%|▏         | 1522/83325 [00:45<40:04, 34.02it/s]"
     ]
    },
    {
     "name": "stdout",
     "output_type": "stream",
     "text": [
      "0.0012407992015688318\n",
      "0.004523095381164133\n"
     ]
    },
    {
     "name": "stderr",
     "output_type": "stream",
     "text": [
      "  2%|▏         | 1542/83325 [00:46<40:07, 33.97it/s]"
     ]
    },
    {
     "name": "stdout",
     "output_type": "stream",
     "text": [
      "0.0050783079714689094\n"
     ]
    },
    {
     "name": "stderr",
     "output_type": "stream",
     "text": [
      "  2%|▏         | 1570/83325 [00:47<40:09, 33.93it/s]"
     ]
    },
    {
     "name": "stdout",
     "output_type": "stream",
     "text": [
      "0.0029496281919951794\n"
     ]
    },
    {
     "name": "stderr",
     "output_type": "stream",
     "text": [
      "  2%|▏         | 1630/83325 [00:49<40:00, 34.03it/s]"
     ]
    },
    {
     "name": "stdout",
     "output_type": "stream",
     "text": [
      "5.010814305372868e-06\n"
     ]
    },
    {
     "name": "stderr",
     "output_type": "stream",
     "text": [
      "  2%|▏         | 1638/83325 [00:49<42:18, 32.18it/s]"
     ]
    },
    {
     "name": "stdout",
     "output_type": "stream",
     "text": [
      "7.723284011162956e-05\n"
     ]
    },
    {
     "name": "stderr",
     "output_type": "stream",
     "text": [
      "  2%|▏         | 1686/83325 [00:50<39:27, 34.48it/s]"
     ]
    },
    {
     "name": "stdout",
     "output_type": "stream",
     "text": [
      "0.0032435834998120194\n"
     ]
    },
    {
     "name": "stderr",
     "output_type": "stream",
     "text": [
      "  2%|▏         | 1706/83325 [00:51<39:49, 34.16it/s]"
     ]
    },
    {
     "name": "stdout",
     "output_type": "stream",
     "text": [
      "0.0005668380708285792\n"
     ]
    },
    {
     "name": "stderr",
     "output_type": "stream",
     "text": [
      "  2%|▏         | 1787/83325 [00:53<41:00, 33.14it/s]"
     ]
    },
    {
     "name": "stdout",
     "output_type": "stream",
     "text": [
      "0.00017944348989518133\n"
     ]
    },
    {
     "name": "stderr",
     "output_type": "stream",
     "text": [
      "\n"
     ]
    },
    {
     "ename": "KeyboardInterrupt",
     "evalue": "",
     "output_type": "error",
     "traceback": [
      "\u001b[1;31m---------------------------------------------------------------------------\u001b[0m",
      "\u001b[1;31mKeyboardInterrupt\u001b[0m                         Traceback (most recent call last)",
      "\u001b[1;32md:\\Projects\\MyNeuralNetwork\\MyNeuralNetwork\\Uni\\Courses\\Computational tools for data science - 02807\\Project\\analysis.ipynb Cell 48\u001b[0m line \u001b[0;36m2\n\u001b[0;32m     <a href='vscode-notebook-cell:/d%3A/Projects/MyNeuralNetwork/MyNeuralNetwork/Uni/Courses/Computational%20tools%20for%20data%20science%20-%2002807/Project/analysis.ipynb#Y163sZmlsZQ%3D%3D?line=20'>21</a>\u001b[0m     \u001b[39mprint\u001b[39m(p)\n\u001b[0;32m     <a href='vscode-notebook-cell:/d%3A/Projects/MyNeuralNetwork/MyNeuralNetwork/Uni/Courses/Computational%20tools%20for%20data%20science%20-%2002807/Project/analysis.ipynb#Y163sZmlsZQ%3D%3D?line=21'>22</a>\u001b[0m     \u001b[39mreturn\u001b[39;00m \u001b[39m1\u001b[39m\n\u001b[1;32m---> <a href='vscode-notebook-cell:/d%3A/Projects/MyNeuralNetwork/MyNeuralNetwork/Uni/Courses/Computational%20tools%20for%20data%20science%20-%2002807/Project/analysis.ipynb#Y163sZmlsZQ%3D%3D?line=23'>24</a>\u001b[0m test_cluster[\u001b[39m'\u001b[39m\u001b[39misAbnormal\u001b[39m\u001b[39m'\u001b[39m] \u001b[39m=\u001b[39m test_cluster\u001b[39m.\u001b[39;49mprogress_apply(\u001b[39mlambda\u001b[39;49;00m row: check_for_abnormality(row), axis\u001b[39m=\u001b[39;49m\u001b[39m1\u001b[39;49m)\n",
      "File \u001b[1;32md:\\Projects\\MyNeuralNetwork\\MyNeuralNetwork\\Uni\\Courses\\Computational tools for data science - 02807\\Project\\02807\\lib\\site-packages\\tqdm\\std.py:920\u001b[0m, in \u001b[0;36mtqdm.pandas.<locals>.inner_generator.<locals>.inner\u001b[1;34m(df, func, *args, **kwargs)\u001b[0m\n\u001b[0;32m    917\u001b[0m \u001b[39m# Apply the provided function (in **kwargs)\u001b[39;00m\n\u001b[0;32m    918\u001b[0m \u001b[39m# on the df using our wrapper (which provides bar updating)\u001b[39;00m\n\u001b[0;32m    919\u001b[0m \u001b[39mtry\u001b[39;00m:\n\u001b[1;32m--> 920\u001b[0m     \u001b[39mreturn\u001b[39;00m \u001b[39mgetattr\u001b[39m(df, df_function)(wrapper, \u001b[39m*\u001b[39m\u001b[39m*\u001b[39mkwargs)\n\u001b[0;32m    921\u001b[0m \u001b[39mfinally\u001b[39;00m:\n\u001b[0;32m    922\u001b[0m     t\u001b[39m.\u001b[39mclose()\n",
      "File \u001b[1;32md:\\Projects\\MyNeuralNetwork\\MyNeuralNetwork\\Uni\\Courses\\Computational tools for data science - 02807\\Project\\02807\\lib\\site-packages\\pandas\\core\\frame.py:10034\u001b[0m, in \u001b[0;36mDataFrame.apply\u001b[1;34m(self, func, axis, raw, result_type, args, by_row, **kwargs)\u001b[0m\n\u001b[0;32m  10022\u001b[0m \u001b[39mfrom\u001b[39;00m \u001b[39mpandas\u001b[39;00m\u001b[39m.\u001b[39;00m\u001b[39mcore\u001b[39;00m\u001b[39m.\u001b[39;00m\u001b[39mapply\u001b[39;00m \u001b[39mimport\u001b[39;00m frame_apply\n\u001b[0;32m  10024\u001b[0m op \u001b[39m=\u001b[39m frame_apply(\n\u001b[0;32m  10025\u001b[0m     \u001b[39mself\u001b[39m,\n\u001b[0;32m  10026\u001b[0m     func\u001b[39m=\u001b[39mfunc,\n\u001b[1;32m   (...)\u001b[0m\n\u001b[0;32m  10032\u001b[0m     kwargs\u001b[39m=\u001b[39mkwargs,\n\u001b[0;32m  10033\u001b[0m )\n\u001b[1;32m> 10034\u001b[0m \u001b[39mreturn\u001b[39;00m op\u001b[39m.\u001b[39;49mapply()\u001b[39m.\u001b[39m__finalize__(\u001b[39mself\u001b[39m, method\u001b[39m=\u001b[39m\u001b[39m\"\u001b[39m\u001b[39mapply\u001b[39m\u001b[39m\"\u001b[39m)\n",
      "File \u001b[1;32md:\\Projects\\MyNeuralNetwork\\MyNeuralNetwork\\Uni\\Courses\\Computational tools for data science - 02807\\Project\\02807\\lib\\site-packages\\pandas\\core\\apply.py:837\u001b[0m, in \u001b[0;36mFrameApply.apply\u001b[1;34m(self)\u001b[0m\n\u001b[0;32m    834\u001b[0m \u001b[39melif\u001b[39;00m \u001b[39mself\u001b[39m\u001b[39m.\u001b[39mraw:\n\u001b[0;32m    835\u001b[0m     \u001b[39mreturn\u001b[39;00m \u001b[39mself\u001b[39m\u001b[39m.\u001b[39mapply_raw()\n\u001b[1;32m--> 837\u001b[0m \u001b[39mreturn\u001b[39;00m \u001b[39mself\u001b[39;49m\u001b[39m.\u001b[39;49mapply_standard()\n",
      "File \u001b[1;32md:\\Projects\\MyNeuralNetwork\\MyNeuralNetwork\\Uni\\Courses\\Computational tools for data science - 02807\\Project\\02807\\lib\\site-packages\\pandas\\core\\apply.py:963\u001b[0m, in \u001b[0;36mFrameApply.apply_standard\u001b[1;34m(self)\u001b[0m\n\u001b[0;32m    962\u001b[0m \u001b[39mdef\u001b[39;00m \u001b[39mapply_standard\u001b[39m(\u001b[39mself\u001b[39m):\n\u001b[1;32m--> 963\u001b[0m     results, res_index \u001b[39m=\u001b[39m \u001b[39mself\u001b[39;49m\u001b[39m.\u001b[39;49mapply_series_generator()\n\u001b[0;32m    965\u001b[0m     \u001b[39m# wrap results\u001b[39;00m\n\u001b[0;32m    966\u001b[0m     \u001b[39mreturn\u001b[39;00m \u001b[39mself\u001b[39m\u001b[39m.\u001b[39mwrap_results(results, res_index)\n",
      "File \u001b[1;32md:\\Projects\\MyNeuralNetwork\\MyNeuralNetwork\\Uni\\Courses\\Computational tools for data science - 02807\\Project\\02807\\lib\\site-packages\\pandas\\core\\apply.py:979\u001b[0m, in \u001b[0;36mFrameApply.apply_series_generator\u001b[1;34m(self)\u001b[0m\n\u001b[0;32m    976\u001b[0m \u001b[39mwith\u001b[39;00m option_context(\u001b[39m\"\u001b[39m\u001b[39mmode.chained_assignment\u001b[39m\u001b[39m\"\u001b[39m, \u001b[39mNone\u001b[39;00m):\n\u001b[0;32m    977\u001b[0m     \u001b[39mfor\u001b[39;00m i, v \u001b[39min\u001b[39;00m \u001b[39menumerate\u001b[39m(series_gen):\n\u001b[0;32m    978\u001b[0m         \u001b[39m# ignore SettingWithCopy here in case the user mutates\u001b[39;00m\n\u001b[1;32m--> 979\u001b[0m         results[i] \u001b[39m=\u001b[39m \u001b[39mself\u001b[39m\u001b[39m.\u001b[39mfunc(v, \u001b[39m*\u001b[39m\u001b[39mself\u001b[39m\u001b[39m.\u001b[39margs, \u001b[39m*\u001b[39m\u001b[39m*\u001b[39m\u001b[39mself\u001b[39m\u001b[39m.\u001b[39mkwargs)\n\u001b[0;32m    980\u001b[0m         \u001b[39mif\u001b[39;00m \u001b[39misinstance\u001b[39m(results[i], ABCSeries):\n\u001b[0;32m    981\u001b[0m             \u001b[39m# If we have a view on v, we need to make a copy because\u001b[39;00m\n\u001b[0;32m    982\u001b[0m             \u001b[39m#  series_generator will swap out the underlying data\u001b[39;00m\n\u001b[0;32m    983\u001b[0m             results[i] \u001b[39m=\u001b[39m results[i]\u001b[39m.\u001b[39mcopy(deep\u001b[39m=\u001b[39m\u001b[39mFalse\u001b[39;00m)\n",
      "File \u001b[1;32md:\\Projects\\MyNeuralNetwork\\MyNeuralNetwork\\Uni\\Courses\\Computational tools for data science - 02807\\Project\\02807\\lib\\site-packages\\tqdm\\std.py:915\u001b[0m, in \u001b[0;36mtqdm.pandas.<locals>.inner_generator.<locals>.inner.<locals>.wrapper\u001b[1;34m(*args, **kwargs)\u001b[0m\n\u001b[0;32m    909\u001b[0m \u001b[39mdef\u001b[39;00m \u001b[39mwrapper\u001b[39m(\u001b[39m*\u001b[39margs, \u001b[39m*\u001b[39m\u001b[39m*\u001b[39mkwargs):\n\u001b[0;32m    910\u001b[0m     \u001b[39m# update tbar correctly\u001b[39;00m\n\u001b[0;32m    911\u001b[0m     \u001b[39m# it seems `pandas apply` calls `func` twice\u001b[39;00m\n\u001b[0;32m    912\u001b[0m     \u001b[39m# on the first column/row to decide whether it can\u001b[39;00m\n\u001b[0;32m    913\u001b[0m     \u001b[39m# take a fast or slow code path; so stop when t.total==t.n\u001b[39;00m\n\u001b[0;32m    914\u001b[0m     t\u001b[39m.\u001b[39mupdate(n\u001b[39m=\u001b[39m\u001b[39m1\u001b[39m \u001b[39mif\u001b[39;00m \u001b[39mnot\u001b[39;00m t\u001b[39m.\u001b[39mtotal \u001b[39mor\u001b[39;00m t\u001b[39m.\u001b[39mn \u001b[39m<\u001b[39m t\u001b[39m.\u001b[39mtotal \u001b[39melse\u001b[39;00m \u001b[39m0\u001b[39m)\n\u001b[1;32m--> 915\u001b[0m     \u001b[39mreturn\u001b[39;00m func(\u001b[39m*\u001b[39margs, \u001b[39m*\u001b[39m\u001b[39m*\u001b[39mkwargs)\n",
      "\u001b[1;32md:\\Projects\\MyNeuralNetwork\\MyNeuralNetwork\\Uni\\Courses\\Computational tools for data science - 02807\\Project\\analysis.ipynb Cell 48\u001b[0m line \u001b[0;36m2\n\u001b[0;32m     <a href='vscode-notebook-cell:/d%3A/Projects/MyNeuralNetwork/MyNeuralNetwork/Uni/Courses/Computational%20tools%20for%20data%20science%20-%2002807/Project/analysis.ipynb#Y163sZmlsZQ%3D%3D?line=20'>21</a>\u001b[0m     \u001b[39mprint\u001b[39m(p)\n\u001b[0;32m     <a href='vscode-notebook-cell:/d%3A/Projects/MyNeuralNetwork/MyNeuralNetwork/Uni/Courses/Computational%20tools%20for%20data%20science%20-%2002807/Project/analysis.ipynb#Y163sZmlsZQ%3D%3D?line=21'>22</a>\u001b[0m     \u001b[39mreturn\u001b[39;00m \u001b[39m1\u001b[39m\n\u001b[1;32m---> <a href='vscode-notebook-cell:/d%3A/Projects/MyNeuralNetwork/MyNeuralNetwork/Uni/Courses/Computational%20tools%20for%20data%20science%20-%2002807/Project/analysis.ipynb#Y163sZmlsZQ%3D%3D?line=23'>24</a>\u001b[0m test_cluster[\u001b[39m'\u001b[39m\u001b[39misAbnormal\u001b[39m\u001b[39m'\u001b[39m] \u001b[39m=\u001b[39m test_cluster\u001b[39m.\u001b[39mprogress_apply(\u001b[39mlambda\u001b[39;00m row: check_for_abnormality(row), axis\u001b[39m=\u001b[39m\u001b[39m1\u001b[39m)\n",
      "\u001b[1;32md:\\Projects\\MyNeuralNetwork\\MyNeuralNetwork\\Uni\\Courses\\Computational tools for data science - 02807\\Project\\analysis.ipynb Cell 48\u001b[0m line \u001b[0;36m1\n\u001b[0;32m     <a href='vscode-notebook-cell:/d%3A/Projects/MyNeuralNetwork/MyNeuralNetwork/Uni/Courses/Computational%20tools%20for%20data%20science%20-%2002807/Project/analysis.ipynb#Y163sZmlsZQ%3D%3D?line=11'>12</a>\u001b[0m \u001b[39mdef\u001b[39;00m \u001b[39mcheck_for_abnormality\u001b[39m(row):\n\u001b[1;32m---> <a href='vscode-notebook-cell:/d%3A/Projects/MyNeuralNetwork/MyNeuralNetwork/Uni/Courses/Computational%20tools%20for%20data%20science%20-%2002807/Project/analysis.ipynb#Y163sZmlsZQ%3D%3D?line=12'>13</a>\u001b[0m     distances, indicies \u001b[39m=\u001b[39m NN_model\u001b[39m.\u001b[39;49mkneighbors(row[feature_names]\u001b[39m.\u001b[39;49mto_numpy()\u001b[39m.\u001b[39;49mreshape(\u001b[39m1\u001b[39;49m, \u001b[39m-\u001b[39;49m\u001b[39m1\u001b[39;49m))\n\u001b[0;32m     <a href='vscode-notebook-cell:/d%3A/Projects/MyNeuralNetwork/MyNeuralNetwork/Uni/Courses/Computational%20tools%20for%20data%20science%20-%2002807/Project/analysis.ipynb#Y163sZmlsZQ%3D%3D?line=13'>14</a>\u001b[0m     nn \u001b[39m=\u001b[39m test_y[indicies[\u001b[39m0\u001b[39m][\u001b[39m1\u001b[39m:]]\n\u001b[0;32m     <a href='vscode-notebook-cell:/d%3A/Projects/MyNeuralNetwork/MyNeuralNetwork/Uni/Courses/Computational%20tools%20for%20data%20science%20-%2002807/Project/analysis.ipynb#Y163sZmlsZQ%3D%3D?line=14'>15</a>\u001b[0m     z \u001b[39m=\u001b[39m  (row[prediction_property] \u001b[39m-\u001b[39m nn\u001b[39m.\u001b[39mmean())\u001b[39m/\u001b[39mnn\u001b[39m.\u001b[39mstd()\n",
      "File \u001b[1;32md:\\Projects\\MyNeuralNetwork\\MyNeuralNetwork\\Uni\\Courses\\Computational tools for data science - 02807\\Project\\02807\\lib\\site-packages\\sklearn\\neighbors\\_base.py:822\u001b[0m, in \u001b[0;36mKNeighborsMixin.kneighbors\u001b[1;34m(self, X, n_neighbors, return_distance)\u001b[0m\n\u001b[0;32m    815\u001b[0m use_pairwise_distances_reductions \u001b[39m=\u001b[39m (\n\u001b[0;32m    816\u001b[0m     \u001b[39mself\u001b[39m\u001b[39m.\u001b[39m_fit_method \u001b[39m==\u001b[39m \u001b[39m\"\u001b[39m\u001b[39mbrute\u001b[39m\u001b[39m\"\u001b[39m\n\u001b[0;32m    817\u001b[0m     \u001b[39mand\u001b[39;00m ArgKmin\u001b[39m.\u001b[39mis_usable_for(\n\u001b[0;32m    818\u001b[0m         X \u001b[39mif\u001b[39;00m X \u001b[39mis\u001b[39;00m \u001b[39mnot\u001b[39;00m \u001b[39mNone\u001b[39;00m \u001b[39melse\u001b[39;00m \u001b[39mself\u001b[39m\u001b[39m.\u001b[39m_fit_X, \u001b[39mself\u001b[39m\u001b[39m.\u001b[39m_fit_X, \u001b[39mself\u001b[39m\u001b[39m.\u001b[39meffective_metric_\n\u001b[0;32m    819\u001b[0m     )\n\u001b[0;32m    820\u001b[0m )\n\u001b[0;32m    821\u001b[0m \u001b[39mif\u001b[39;00m use_pairwise_distances_reductions:\n\u001b[1;32m--> 822\u001b[0m     results \u001b[39m=\u001b[39m ArgKmin\u001b[39m.\u001b[39;49mcompute(\n\u001b[0;32m    823\u001b[0m         X\u001b[39m=\u001b[39;49mX,\n\u001b[0;32m    824\u001b[0m         Y\u001b[39m=\u001b[39;49m\u001b[39mself\u001b[39;49m\u001b[39m.\u001b[39;49m_fit_X,\n\u001b[0;32m    825\u001b[0m         k\u001b[39m=\u001b[39;49mn_neighbors,\n\u001b[0;32m    826\u001b[0m         metric\u001b[39m=\u001b[39;49m\u001b[39mself\u001b[39;49m\u001b[39m.\u001b[39;49meffective_metric_,\n\u001b[0;32m    827\u001b[0m         metric_kwargs\u001b[39m=\u001b[39;49m\u001b[39mself\u001b[39;49m\u001b[39m.\u001b[39;49meffective_metric_params_,\n\u001b[0;32m    828\u001b[0m         strategy\u001b[39m=\u001b[39;49m\u001b[39m\"\u001b[39;49m\u001b[39mauto\u001b[39;49m\u001b[39m\"\u001b[39;49m,\n\u001b[0;32m    829\u001b[0m         return_distance\u001b[39m=\u001b[39;49mreturn_distance,\n\u001b[0;32m    830\u001b[0m     )\n\u001b[0;32m    832\u001b[0m \u001b[39melif\u001b[39;00m (\n\u001b[0;32m    833\u001b[0m     \u001b[39mself\u001b[39m\u001b[39m.\u001b[39m_fit_method \u001b[39m==\u001b[39m \u001b[39m\"\u001b[39m\u001b[39mbrute\u001b[39m\u001b[39m\"\u001b[39m \u001b[39mand\u001b[39;00m \u001b[39mself\u001b[39m\u001b[39m.\u001b[39mmetric \u001b[39m==\u001b[39m \u001b[39m\"\u001b[39m\u001b[39mprecomputed\u001b[39m\u001b[39m\"\u001b[39m \u001b[39mand\u001b[39;00m issparse(X)\n\u001b[0;32m    834\u001b[0m ):\n\u001b[0;32m    835\u001b[0m     results \u001b[39m=\u001b[39m _kneighbors_from_graph(\n\u001b[0;32m    836\u001b[0m         X, n_neighbors\u001b[39m=\u001b[39mn_neighbors, return_distance\u001b[39m=\u001b[39mreturn_distance\n\u001b[0;32m    837\u001b[0m     )\n",
      "File \u001b[1;32md:\\Projects\\MyNeuralNetwork\\MyNeuralNetwork\\Uni\\Courses\\Computational tools for data science - 02807\\Project\\02807\\lib\\site-packages\\sklearn\\metrics\\_pairwise_distances_reduction\\_dispatcher.py:259\u001b[0m, in \u001b[0;36mArgKmin.compute\u001b[1;34m(cls, X, Y, k, metric, chunk_size, metric_kwargs, strategy, return_distance)\u001b[0m\n\u001b[0;32m    178\u001b[0m \u001b[39m\u001b[39m\u001b[39m\"\"\"Compute the argkmin reduction.\u001b[39;00m\n\u001b[0;32m    179\u001b[0m \n\u001b[0;32m    180\u001b[0m \u001b[39mParameters\u001b[39;00m\n\u001b[1;32m   (...)\u001b[0m\n\u001b[0;32m    256\u001b[0m \u001b[39mreturns.\u001b[39;00m\n\u001b[0;32m    257\u001b[0m \u001b[39m\"\"\"\u001b[39;00m\n\u001b[0;32m    258\u001b[0m \u001b[39mif\u001b[39;00m X\u001b[39m.\u001b[39mdtype \u001b[39m==\u001b[39m Y\u001b[39m.\u001b[39mdtype \u001b[39m==\u001b[39m np\u001b[39m.\u001b[39mfloat64:\n\u001b[1;32m--> 259\u001b[0m     \u001b[39mreturn\u001b[39;00m ArgKmin64\u001b[39m.\u001b[39;49mcompute(\n\u001b[0;32m    260\u001b[0m         X\u001b[39m=\u001b[39;49mX,\n\u001b[0;32m    261\u001b[0m         Y\u001b[39m=\u001b[39;49mY,\n\u001b[0;32m    262\u001b[0m         k\u001b[39m=\u001b[39;49mk,\n\u001b[0;32m    263\u001b[0m         metric\u001b[39m=\u001b[39;49mmetric,\n\u001b[0;32m    264\u001b[0m         chunk_size\u001b[39m=\u001b[39;49mchunk_size,\n\u001b[0;32m    265\u001b[0m         metric_kwargs\u001b[39m=\u001b[39;49mmetric_kwargs,\n\u001b[0;32m    266\u001b[0m         strategy\u001b[39m=\u001b[39;49mstrategy,\n\u001b[0;32m    267\u001b[0m         return_distance\u001b[39m=\u001b[39;49mreturn_distance,\n\u001b[0;32m    268\u001b[0m     )\n\u001b[0;32m    270\u001b[0m \u001b[39mif\u001b[39;00m X\u001b[39m.\u001b[39mdtype \u001b[39m==\u001b[39m Y\u001b[39m.\u001b[39mdtype \u001b[39m==\u001b[39m np\u001b[39m.\u001b[39mfloat32:\n\u001b[0;32m    271\u001b[0m     \u001b[39mreturn\u001b[39;00m ArgKmin32\u001b[39m.\u001b[39mcompute(\n\u001b[0;32m    272\u001b[0m         X\u001b[39m=\u001b[39mX,\n\u001b[0;32m    273\u001b[0m         Y\u001b[39m=\u001b[39mY,\n\u001b[1;32m   (...)\u001b[0m\n\u001b[0;32m    279\u001b[0m         return_distance\u001b[39m=\u001b[39mreturn_distance,\n\u001b[0;32m    280\u001b[0m     )\n",
      "File \u001b[1;32msklearn\\metrics\\_pairwise_distances_reduction\\_argkmin.pyx:71\u001b[0m, in \u001b[0;36msklearn.metrics._pairwise_distances_reduction._argkmin.ArgKmin64.compute\u001b[1;34m()\u001b[0m\n",
      "File \u001b[1;32msklearn\\metrics\\_pairwise_distances_reduction\\_argkmin.pyx:379\u001b[0m, in \u001b[0;36msklearn.metrics._pairwise_distances_reduction._argkmin.EuclideanArgKmin64.__init__\u001b[1;34m()\u001b[0m\n",
      "File \u001b[1;32msklearn\\metrics\\_pairwise_distances_reduction\\_base.pyx:114\u001b[0m, in \u001b[0;36msklearn.metrics._pairwise_distances_reduction._base._sqeuclidean_row_norms64\u001b[1;34m()\u001b[0m\n",
      "File \u001b[1;32md:\\Projects\\MyNeuralNetwork\\MyNeuralNetwork\\Uni\\Courses\\Computational tools for data science - 02807\\Project\\02807\\lib\\site-packages\\scipy\\sparse\\_base.py:1461\u001b[0m, in \u001b[0;36missparse\u001b[1;34m(x)\u001b[0m\n\u001b[0;32m   1456\u001b[0m     \u001b[39mpass\u001b[39;00m\n\u001b[0;32m   1458\u001b[0m sparray\u001b[39m.\u001b[39m\u001b[39m__doc__\u001b[39m \u001b[39m=\u001b[39m _spbase\u001b[39m.\u001b[39m\u001b[39m__doc__\u001b[39m\n\u001b[1;32m-> 1461\u001b[0m \u001b[39mdef\u001b[39;00m \u001b[39missparse\u001b[39m(x):\n\u001b[0;32m   1462\u001b[0m \u001b[39m    \u001b[39m\u001b[39m\"\"\"Is `x` of a sparse array type?\u001b[39;00m\n\u001b[0;32m   1463\u001b[0m \n\u001b[0;32m   1464\u001b[0m \u001b[39m    Parameters\u001b[39;00m\n\u001b[1;32m   (...)\u001b[0m\n\u001b[0;32m   1485\u001b[0m \u001b[39m    False\u001b[39;00m\n\u001b[0;32m   1486\u001b[0m \u001b[39m    \"\"\"\u001b[39;00m\n\u001b[0;32m   1487\u001b[0m     \u001b[39mreturn\u001b[39;00m \u001b[39misinstance\u001b[39m(x, _spbase)\n",
      "\u001b[1;31mKeyboardInterrupt\u001b[0m: "
     ]
    }
   ],
   "source": [
    "test_cluster = analysis_ds.loc[clusterings==3]\n",
    "# Prediction variable\n",
    "test_y = test_cluster[prediction_property]\n",
    "# Feature data\n",
    "test_X = test_cluster[feature_names]\n",
    "\n",
    "K = 100\n",
    "T = 1/100\n",
    "reference_dist = norm()\n",
    "NN_model = NearestNeighbors(n_neighbors=K+1).fit(test_cluster[feature_names]) # K+1 because it will find itself\n",
    "\n",
    "def check_for_abnormality(row):\n",
    "    distances, indicies = NN_model.kneighbors(row[feature_names].to_numpy().reshape(1, -1))\n",
    "    nn = test_y[indicies[0][1:]]\n",
    "    z =  (row[prediction_property] - nn.mean())/nn.std()\n",
    "    p = 1 - reference_dist.cdf(abs(z))\n",
    "\n",
    "    if p > T:\n",
    "        return 0\n",
    "    \n",
    "    print(p)\n",
    "    return 1\n",
    "\n",
    "test_cluster['isAbnormal'] = test_cluster.progress_apply(lambda row: check_for_abnormality(row), axis=1)\n",
    "    "
   ]
  },
  {
   "cell_type": "code",
   "execution_count": 97,
   "metadata": {},
   "outputs": [
    {
     "data": {
      "text/plain": [
       "0.0044318484119380075"
      ]
     },
     "execution_count": 97,
     "metadata": {},
     "output_type": "execute_result"
    }
   ],
   "source": [
    "norm().pdf(3)"
   ]
  },
  {
   "cell_type": "code",
   "execution_count": 25,
   "metadata": {},
   "outputs": [
    {
     "data": {
      "text/plain": [
       "3"
      ]
     },
     "execution_count": 25,
     "metadata": {},
     "output_type": "execute_result"
    }
   ],
   "source": [
    "import gc\n",
    "gc.collect()"
   ]
  }
 ],
 "metadata": {
  "kernelspec": {
   "display_name": "02807",
   "language": "python",
   "name": "python3"
  },
  "language_info": {
   "codemirror_mode": {
    "name": "ipython",
    "version": 3
   },
   "file_extension": ".py",
   "mimetype": "text/x-python",
   "name": "python",
   "nbconvert_exporter": "python",
   "pygments_lexer": "ipython3",
   "version": "3.6.8"
  }
 },
 "nbformat": 4,
 "nbformat_minor": 2
}
