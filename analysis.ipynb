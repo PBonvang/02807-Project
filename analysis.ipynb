{
 "cells": [
  {
   "cell_type": "code",
   "execution_count": 1,
   "metadata": {},
   "outputs": [],
   "source": [
    "import pandas as pd"
   ]
  },
  {
   "cell_type": "code",
   "execution_count": null,
   "metadata": {},
   "outputs": [],
   "source": [
    "ds = pd.read_csv('data/DS_with_one_hot.csv', delimiter=';')\n",
    "ds.head()"
   ]
  },
  {
   "cell_type": "code",
   "execution_count": null,
   "metadata": {},
   "outputs": [],
   "source": [
    "ds.describe()"
   ]
  },
  {
   "cell_type": "code",
   "execution_count": null,
   "metadata": {},
   "outputs": [],
   "source": [
    "ds.set_index('id', inplace=True)\n",
    "ds['totalAddressValue'] = ds['propertyValue'] + ds['groundValue']"
   ]
  },
  {
   "cell_type": "code",
   "execution_count": null,
   "metadata": {},
   "outputs": [],
   "source": [
    "# Drop rows where property or ground value is 0\n",
    "ds_simple = ds.loc[(ds['propertyValue'] != 0.0) & (ds['groundValue'] != 0.0)]\n",
    "\n",
    "# Dropping useless columns\n",
    "ds_simple = ds_simple.drop(columns=[\n",
    "    'evaluationYear',\n",
    "    'groundValue',\n",
    "    'propertyValue',\n",
    "    'propertyTax',\n",
    "    'groundTax',\n",
    "    'totalAddressTax',\n",
    "    'address',\n",
    "    'house_nr',\n",
    "    'street_name',\n",
    "    'city_name'\n",
    "])\n",
    "\n",
    "# Filling area columns with 0 if nan\n",
    "area_columns = [col for col in ds_simple.columns if 'area' in col.lower()]\n",
    "ds_simple[area_columns] = ds_simple[area_columns].fillna(0)\n",
    "\n",
    "# Filling other columns with default 0 if nan\n",
    "misc_columns_with_nans = [\n",
    "    'locationOnLakeTerritory',\n",
    "    'numberOfFloors',\n",
    "    'shelterSpaces'\n",
    "]\n",
    "ds_simple[misc_columns_with_nans] = ds_simple[misc_columns_with_nans].fillna(0)\n",
    "\n",
    "ds_without_nans = ds_simple.dropna()"
   ]
  },
  {
   "cell_type": "code",
   "execution_count": null,
   "metadata": {},
   "outputs": [],
   "source": [
    "ds_simple.loc[ds_simple.isna().any(axis=1)]"
   ]
  },
  {
   "cell_type": "code",
   "execution_count": null,
   "metadata": {},
   "outputs": [],
   "source": [
    "828874/len(ds_simple),len(ds_simple) - 828874"
   ]
  },
  {
   "cell_type": "code",
   "execution_count": null,
   "metadata": {},
   "outputs": [],
   "source": [
    "ds_without_nans.to_csv('data/DS_totalAddressValue_no_nans.csv')"
   ]
  },
  {
   "cell_type": "markdown",
   "metadata": {},
   "source": [
    "# Analysis"
   ]
  },
  {
   "cell_type": "code",
   "execution_count": 2,
   "metadata": {},
   "outputs": [],
   "source": [
    "import pandas as pd\n",
    "import numpy as np\n",
    "import matplotlib.pyplot as plt\n",
    "from sklearn.preprocessing import StandardScaler"
   ]
  },
  {
   "cell_type": "code",
   "execution_count": 3,
   "metadata": {},
   "outputs": [],
   "source": [
    "ds_without_nans = pd.read_csv('data/DS_totalAddressValue_no_nans.csv', index_col='id')"
   ]
  },
  {
   "cell_type": "code",
   "execution_count": 4,
   "metadata": {},
   "outputs": [],
   "source": [
    "# Prediction variable\n",
    "prediction_property = 'totalAddressValue'\n",
    "total_address_values = ds_without_nans[prediction_property]\n",
    "\n",
    "# Feature data\n",
    "feature_names = ds_without_nans.columns[ds_without_nans.columns != prediction_property]\n",
    "feature_data = ds_without_nans[feature_names]\n"
   ]
  },
  {
   "cell_type": "code",
   "execution_count": null,
   "metadata": {},
   "outputs": [],
   "source": [
    "scaler = StandardScaler()\n",
    "normalized_feature_data = scaler.fit_transform(feature_data)"
   ]
  },
  {
   "cell_type": "code",
   "execution_count": 6,
   "metadata": {},
   "outputs": [
    {
     "data": {
      "text/plain": [
       "526117"
      ]
     },
     "execution_count": 6,
     "metadata": {},
     "output_type": "execute_result"
    }
   ],
   "source": [
    "len(total_address_values)"
   ]
  },
  {
   "cell_type": "markdown",
   "metadata": {},
   "source": [
    "## PCA"
   ]
  },
  {
   "cell_type": "code",
   "execution_count": null,
   "metadata": {},
   "outputs": [],
   "source": [
    "from sklearn.decomposition import PCA"
   ]
  },
  {
   "cell_type": "code",
   "execution_count": null,
   "metadata": {},
   "outputs": [],
   "source": [
    "n_components = 10 # len(feature_names)\n",
    "pca = PCA(n_components=n_components)\n",
    "transformed_ds = pca.fit_transform(normalized_feature_data)\n",
    "components = pca.components_"
   ]
  },
  {
   "cell_type": "code",
   "execution_count": null,
   "metadata": {},
   "outputs": [],
   "source": [
    "n_plotting_components = n_components\n",
    "def addlabels(x,y):\n",
    "    for i in range(len(x)):\n",
    "        plt.text(i+1, y[i], f\"{y[i]:.2f} %\", ha = 'center')\n",
    "\t\t\n",
    "variances = pca.explained_variance_\n",
    "variance_ratios = pca.explained_variance_ratio_\n",
    "print(\"Component variances:\",variances[:n_plotting_components])\n",
    "print(\"Component percentages/ratios:\",variance_ratios[:n_plotting_components])\n",
    "\n",
    "component_percentage = variance_ratios[:n_plotting_components]*100\n",
    "plt.bar(range(1,n_plotting_components +1), component_percentage)\n",
    "addlabels(range(1,n_plotting_components +1), component_percentage)\n",
    "plt.title(\"Details explained per component\")\n",
    "plt.show()"
   ]
  },
  {
   "cell_type": "markdown",
   "metadata": {},
   "source": [
    "# Regression analysis"
   ]
  },
  {
   "cell_type": "code",
   "execution_count": null,
   "metadata": {},
   "outputs": [],
   "source": [
    "from sklearn.linear_model import LinearRegression\n",
    "from sklearn.preprocessing import PolynomialFeatures"
   ]
  },
  {
   "cell_type": "code",
   "execution_count": null,
   "metadata": {},
   "outputs": [],
   "source": [
    "LR_model = LinearRegression().fit(\n",
    "    normalized_feature_data,\n",
    "    total_address_values\n",
    ")"
   ]
  },
  {
   "cell_type": "code",
   "execution_count": null,
   "metadata": {},
   "outputs": [],
   "source": [
    "# Coefficient of determination\n",
    "LR_model.score(normalized_feature_data, total_address_values)\n",
    "# Not looking great"
   ]
  },
  {
   "cell_type": "code",
   "execution_count": null,
   "metadata": {},
   "outputs": [],
   "source": [
    "LR_coefficients = LR_model.coef_\n",
    "feature_coef_map = sorted(\n",
    "    [{'feature':feature,'coef':coef} for feature, coef in zip(feature_names, LR_coefficients)],\n",
    "    key=lambda x: x['coef'],\n",
    "    reverse=True\n",
    ")\n",
    "sorted_features = [x['feature'] for x in feature_coef_map]\n",
    "sorted_coefs = [x['coef'] for x in feature_coef_map]\n",
    "\n",
    "n_plotting_features = 15\n",
    "plt.bar(\n",
    "    sorted_features[:n_plotting_features],\n",
    "    sorted_coefs[:n_plotting_features]\n",
    ")\n",
    "plt.xticks(rotation=90)\n",
    "plt.show()"
   ]
  },
  {
   "cell_type": "code",
   "execution_count": null,
   "metadata": {},
   "outputs": [],
   "source": [
    "LR_predictions = LR_model.predict(normalized_feature_data)\n",
    "pd.DataFrame({'actual': total_address_values, 'prediction':LR_predictions})"
   ]
  },
  {
   "cell_type": "markdown",
   "metadata": {},
   "source": [
    "## Poly regression\n",
    "As the coefficient of determination was so low for the LR"
   ]
  },
  {
   "cell_type": "code",
   "execution_count": null,
   "metadata": {},
   "outputs": [],
   "source": [
    "poly_features = PolynomialFeatures(degree=2, include_bias=False)\\\n",
    "    .fit_transform(normalized_feature_data)\n",
    "poly_model = LinearRegression().fit(poly_features, total_address_values)"
   ]
  },
  {
   "cell_type": "code",
   "execution_count": null,
   "metadata": {},
   "outputs": [],
   "source": [
    "# Coefficient of determination\n",
    "poly_model.score(poly_features, total_address_values)"
   ]
  },
  {
   "cell_type": "markdown",
   "metadata": {},
   "source": [
    "## DBSCAN"
   ]
  },
  {
   "cell_type": "code",
   "execution_count": 5,
   "metadata": {},
   "outputs": [],
   "source": [
    "from sklearn.cluster import DBSCAN\n",
    "from sklearn.neighbors import NearestNeighbors"
   ]
  },
  {
   "cell_type": "code",
   "execution_count": 10,
   "metadata": {},
   "outputs": [],
   "source": [
    "# Determining hyperparameters\n",
    "# https://medium.com/@tarammullin/dbscan-parameter-estimation-ff8330e3a3bd\n",
    "NN_model = NearestNeighbors(n_neighbors=2).fit(feature_data)\n",
    "distances, indices = NN_model.kneighbors(feature_data)"
   ]
  },
  {
   "cell_type": "code",
   "execution_count": 45,
   "metadata": {},
   "outputs": [
    {
     "data": {
      "image/png": "[encoded data removed]",
      "text/plain": [
       "<Figure size 640x480 with 1 Axes>"
      ]
     },
     "metadata": {},
     "output_type": "display_data"
    }
   ],
   "source": [
    "plt.plot(np.sort(distances)[525_900:])\n",
    "plt.grid()\n",
    "plt.show()"
   ]
  },
  {
   "cell_type": "code",
   "execution_count": 6,
   "metadata": {},
   "outputs": [],
   "source": [
    "eps = 3900"
   ]
  },
  {
   "cell_type": "code",
   "execution_count": 50,
   "metadata": {},
   "outputs": [
    {
     "data": {
      "text/html": [
       "<div>\n",
       "<style scoped>\n",
       "    .dataframe tbody tr th:only-of-type {\n",
       "        vertical-align: middle;\n",
       "    }\n",
       "\n",
       "    .dataframe tbody tr th {\n",
       "        vertical-align: top;\n",
       "    }\n",
       "\n",
       "    .dataframe thead th {\n",
       "        text-align: right;\n",
       "    }\n",
       "</style>\n",
       "<table border=\"1\" class=\"dataframe\">\n",
       "  <thead>\n",
       "    <tr style=\"text-align: right;\">\n",
       "      <th></th>\n",
       "      <th>0</th>\n",
       "    </tr>\n",
       "  </thead>\n",
       "  <tbody>\n",
       "    <tr>\n",
       "      <th>count</th>\n",
       "      <td>526117.000000</td>\n",
       "    </tr>\n",
       "    <tr>\n",
       "      <th>mean</th>\n",
       "      <td>19.926792</td>\n",
       "    </tr>\n",
       "    <tr>\n",
       "      <th>std</th>\n",
       "      <td>49.130484</td>\n",
       "    </tr>\n",
       "    <tr>\n",
       "      <th>min</th>\n",
       "      <td>0.000000</td>\n",
       "    </tr>\n",
       "    <tr>\n",
       "      <th>25%</th>\n",
       "      <td>8.246211</td>\n",
       "    </tr>\n",
       "    <tr>\n",
       "      <th>50%</th>\n",
       "      <td>13.379088</td>\n",
       "    </tr>\n",
       "    <tr>\n",
       "      <th>75%</th>\n",
       "      <td>22.000000</td>\n",
       "    </tr>\n",
       "    <tr>\n",
       "      <th>max</th>\n",
       "      <td>12344.900526</td>\n",
       "    </tr>\n",
       "  </tbody>\n",
       "</table>\n",
       "</div>"
      ],
      "text/plain": [
       "                   0\n",
       "count  526117.000000\n",
       "mean       19.926792\n",
       "std        49.130484\n",
       "min         0.000000\n",
       "25%         8.246211\n",
       "50%        13.379088\n",
       "75%        22.000000\n",
       "max     12344.900526"
      ]
     },
     "execution_count": 50,
     "metadata": {},
     "output_type": "execute_result"
    }
   ],
   "source": [
    "distance_stats = pd.DataFrame(distances).describe()\n",
    "distance_stats"
   ]
  },
  {
   "cell_type": "code",
   "execution_count": 53,
   "metadata": {},
   "outputs": [
    {
     "data": {
      "text/plain": [
       "8"
      ]
     },
     "execution_count": 53,
     "metadata": {},
     "output_type": "execute_result"
    }
   ],
   "source": [
    "len(distances[distances>eps]) # Outliers"
   ]
  },
  {
   "cell_type": "code",
   "execution_count": 7,
   "metadata": {},
   "outputs": [],
   "source": [
    "min_samples = 2*len(feature_names)"
   ]
  },
  {
   "cell_type": "code",
   "execution_count": 54,
   "metadata": {},
   "outputs": [],
   "source": [
    "# Fitting DBSCAN \n",
    "dbscan = DBSCAN(eps=eps, min_samples=min_samples)\n",
    "dbscan.fit(feature_data)"
   ]
  },
  {
   "cell_type": "code",
   "execution_count": null,
   "metadata": {},
   "outputs": [],
   "source": [
    "db_clusterings = dbscan.labels_\n",
    "np.save('data/DBSCAN_clusterings.npy', db_clusterings)"
   ]
  },
  {
   "cell_type": "code",
   "execution_count": null,
   "metadata": {},
   "outputs": [],
   "source": [
    "import gc\n",
    "gc.collect()"
   ]
  }
 ],
 "metadata": {
  "kernelspec": {
   "display_name": "02807",
   "language": "python",
   "name": "python3"
  },
  "language_info": {
   "codemirror_mode": {
    "name": "ipython",
    "version": 3
   },
   "file_extension": ".py",
   "mimetype": "text/x-python",
   "name": "python",
   "nbconvert_exporter": "python",
   "pygments_lexer": "ipython3",
   "version": "3.9.12"
  }
 },
 "nbformat": 4,
 "nbformat_minor": 2
}
